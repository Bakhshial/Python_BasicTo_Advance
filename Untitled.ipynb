{
 "cells": [
  {
   "cell_type": "code",
   "execution_count": 2,
   "id": "d3013c2b",
   "metadata": {},
   "outputs": [
    {
     "name": "stdout",
     "output_type": "stream",
     "text": [
      "enter the value: 34\n",
      "20\n",
      "22\n",
      "24\n",
      "26\n",
      "28\n",
      "30\n",
      "32\n",
      "34\n",
      "36\n",
      "38\n",
      "40\n",
      "42\n",
      "44\n",
      "46\n",
      "48\n",
      "50\n",
      "52\n",
      "54\n",
      "56\n",
      "58\n",
      "60\n",
      "62\n",
      "64\n",
      "66\n"
     ]
    }
   ],
   "source": [
    "n =int(input(\"enter the value: \"))\n",
    "for i in range(10,n):\n",
    "    i=i+i\n",
    "    print(i)"
   ]
  },
  {
   "cell_type": "code",
   "execution_count": 3,
   "id": "46ffdb44",
   "metadata": {},
   "outputs": [
    {
     "name": "stdout",
     "output_type": "stream",
     "text": [
      "enter the value: 12\n",
      "20\n",
      "22\n"
     ]
    }
   ],
   "source": [
    "def fun():\n",
    "    n =int(input(\"enter the value: \"))\n",
    "    for i in range(10,n):\n",
    "        i=i+i\n",
    "        print(i)\n",
    "fun()"
   ]
  },
  {
   "cell_type": "code",
   "execution_count": 11,
   "id": "191e4362",
   "metadata": {},
   "outputs": [
    {
     "data": {
      "text/plain": [
       "(12, 34, 12, 34)"
      ]
     },
     "execution_count": 11,
     "metadata": {},
     "output_type": "execute_result"
    }
   ],
   "source": [
    "def sum1(a,b):\n",
    "    return a+b\n",
    "sum1(2,4)  \n",
    "\n",
    "def num(*a):\n",
    "    a+=a\n",
    "    return a\n",
    "num(12,34)"
   ]
  },
  {
   "cell_type": "code",
   "execution_count": 12,
   "id": "9ecb0d44",
   "metadata": {},
   "outputs": [
    {
     "ename": "SyntaxError",
     "evalue": "invalid syntax (3275574753.py, line 2)",
     "output_type": "error",
     "traceback": [
      "\u001b[1;36m  File \u001b[1;32m\"C:\\Users\\Invisible Boy\\AppData\\Local\\Temp\\ipykernel_708\\3275574753.py\"\u001b[1;36m, line \u001b[1;32m2\u001b[0m\n\u001b[1;33m    def task(list[]):\u001b[0m\n\u001b[1;37m                 ^\u001b[0m\n\u001b[1;31mSyntaxError\u001b[0m\u001b[1;31m:\u001b[0m invalid syntax\n"
     ]
    }
   ],
   "source": [
    "# TOSESS=6\n",
    "# def task(TOSESS):\n",
    "#     for i in range(TOSESS+1):\n",
    "#         if random.random()\n",
    "        "
   ]
  },
  {
   "cell_type": "code",
   "execution_count": 2,
   "id": "9c7df9c7",
   "metadata": {
    "scrolled": true
   },
   "outputs": [
    {
     "name": "stdout",
     "output_type": "stream",
     "text": [
      "[[1. 2. 3.]\n",
      " [1. 2. 3.]\n",
      " [1. 2. 3.]]\n"
     ]
    },
    {
     "data": {
      "text/plain": [
       "array([[6., 6., 6.],\n",
       "       [6., 6., 6.],\n",
       "       [6., 6., 6.]])"
      ]
     },
     "execution_count": 2,
     "metadata": {},
     "output_type": "execute_result"
    }
   ],
   "source": [
    "import numpy as np\n",
    "a=np.array([0,1,2])\n",
    "M=np.ones((3,3))\n",
    "print(M+a)\n",
    "M+5"
   ]
  },
  {
   "cell_type": "code",
   "execution_count": 5,
   "id": "22d95abf",
   "metadata": {},
   "outputs": [
    {
     "name": "stdout",
     "output_type": "stream",
     "text": [
      "[0 1 2]\n",
      "[[0]\n",
      " [1]\n",
      " [2]]\n",
      "[[0 1 2]]\n"
     ]
    },
    {
     "data": {
      "text/plain": [
       "array([3.        , 3.02040816, 3.04081633, 3.06122449, 3.08163265,\n",
       "       3.10204082, 3.12244898, 3.14285714, 3.16326531, 3.18367347,\n",
       "       3.20408163, 3.2244898 , 3.24489796, 3.26530612, 3.28571429,\n",
       "       3.30612245, 3.32653061, 3.34693878, 3.36734694, 3.3877551 ,\n",
       "       3.40816327, 3.42857143, 3.44897959, 3.46938776, 3.48979592,\n",
       "       3.51020408, 3.53061224, 3.55102041, 3.57142857, 3.59183673,\n",
       "       3.6122449 , 3.63265306, 3.65306122, 3.67346939, 3.69387755,\n",
       "       3.71428571, 3.73469388, 3.75510204, 3.7755102 , 3.79591837,\n",
       "       3.81632653, 3.83673469, 3.85714286, 3.87755102, 3.89795918,\n",
       "       3.91836735, 3.93877551, 3.95918367, 3.97959184, 4.        ])"
      ]
     },
     "execution_count": 5,
     "metadata": {},
     "output_type": "execute_result"
    }
   ],
   "source": [
    "a=np.arange(3)\n",
    "b=np.arange(3)[:,np.newaxis]\n",
    "print(a)\n",
    "print(b)\n",
    "a+b\n",
    "b=b.reshape(1,3)\n",
    "print(b)\n",
    "np.linspace(3,4,50)"
   ]
  },
  {
   "cell_type": "code",
   "execution_count": 13,
   "id": "6e9b89b9",
   "metadata": {},
   "outputs": [
    {
     "name": "stdout",
     "output_type": "stream",
     "text": [
      "hello world\n"
     ]
    },
    {
     "data": {
      "text/plain": [
       "'\\nsaidfjoapsf\\nas;dkfj;aisohdf\\nsas;oidhfluisgf\\nsafuasigfw\\nsljhagfiyf\\n'"
      ]
     },
     "execution_count": 13,
     "metadata": {},
     "output_type": "execute_result"
    }
   ],
   "source": [
    "print(\"hello world\")\n",
    "#alsjfhlhglasg\n",
    "\n",
    "\n",
    "\"\"\"\n",
    "saidfjoapsf\n",
    "as;dkfj;aisohdf\n",
    "sas;oidhfluisgf\n",
    "safuasigfw\n",
    "sljhagfiyf\n",
    "\"\"\""
   ]
  },
  {
   "cell_type": "code",
   "execution_count": 15,
   "id": "70b89e8b",
   "metadata": {},
   "outputs": [],
   "source": [
    "a=0\n",
    "while a!=0:\n",
    "    print(a)\n",
    "for i "
   ]
  },
  {
   "cell_type": "code",
   "execution_count": 16,
   "id": "7c037ce8",
   "metadata": {},
   "outputs": [
    {
     "name": "stdout",
     "output_type": "stream",
     "text": [
      "safd ouashfia 1234 True\n"
     ]
    }
   ],
   "source": [
    "print(\"safd\",\"ouashfia\",1234,True)"
   ]
  },
  {
   "cell_type": "code",
   "execution_count": 18,
   "id": "27413e9b",
   "metadata": {},
   "outputs": [
    {
     "name": "stdout",
     "output_type": "stream",
     "text": [
      "what is your name? haider\n"
     ]
    }
   ],
   "source": [
    "name=input(\"what is your name? \")"
   ]
  },
  {
   "cell_type": "code",
   "execution_count": 20,
   "id": "da2caea5",
   "metadata": {},
   "outputs": [
    {
     "name": "stdout",
     "output_type": "stream",
     "text": [
      "my name is : haider\n"
     ]
    }
   ],
   "source": [
    "print(\"my name is :\",name)"
   ]
  },
  {
   "cell_type": "code",
   "execution_count": 23,
   "id": "6cc6086e",
   "metadata": {},
   "outputs": [
    {
     "name": "stdout",
     "output_type": "stream",
     "text": [
      "1\n",
      "1.5\n",
      "1\n"
     ]
    }
   ],
   "source": [
    "print(3%2)\n",
    "print(3/2)\n",
    "print(3//2)"
   ]
  },
  {
   "cell_type": "code",
   "execution_count": 28,
   "id": "ee7cf8c4",
   "metadata": {},
   "outputs": [
    {
     "data": {
      "text/plain": [
       "378"
      ]
     },
     "execution_count": 28,
     "metadata": {},
     "output_type": "execute_result"
    }
   ],
   "source": [
    "a=1+23+4+5+\\\n",
    "345\n",
    "a"
   ]
  },
  {
   "cell_type": "code",
   "execution_count": 36,
   "id": "a8330608",
   "metadata": {},
   "outputs": [
    {
     "name": "stdout",
     "output_type": "stream",
     "text": [
      "Ali\n",
      "Hajano\n",
      "Ali\t\thajano\n"
     ]
    }
   ],
   "source": [
    "print(\"Ali\\nHajano\")\n",
    "print(\"Ali\\t\\thajano\")"
   ]
  },
  {
   "cell_type": "code",
   "execution_count": 43,
   "id": "a03c5adf",
   "metadata": {},
   "outputs": [
    {
     "name": "stdout",
     "output_type": "stream",
     "text": [
      "                    123,445.57\n"
     ]
    }
   ],
   "source": [
    "print(format(123445.5678,\",.2f\"))"
   ]
  },
  {
   "cell_type": "code",
   "execution_count": 53,
   "id": "0568dc45",
   "metadata": {},
   "outputs": [
    {
     "name": "stdout",
     "output_type": "stream",
     "text": [
      "12344556.78%\n"
     ]
    }
   ],
   "source": [
    "print(format(123445.5678,\"0.2%\"))"
   ]
  },
  {
   "cell_type": "code",
   "execution_count": 55,
   "id": "87373dc9",
   "metadata": {},
   "outputs": [
    {
     "name": "stdout",
     "output_type": "stream",
     "text": [
      "125\n",
      "126\n",
      "123\n"
     ]
    }
   ],
   "source": [
    "VALUE=123\n",
    "print(2+VALUE)\n",
    "print(3+VALUE)\n",
    "print(VALUE)"
   ]
  },
  {
   "cell_type": "code",
   "execution_count": 57,
   "id": "357d35a6",
   "metadata": {},
   "outputs": [
    {
     "ename": "NameError",
     "evalue": "name 'asd' is not defined",
     "output_type": "error",
     "traceback": [
      "\u001b[1;31m---------------------------------------------------------------------------\u001b[0m",
      "\u001b[1;31mNameError\u001b[0m                                 Traceback (most recent call last)",
      "\u001b[1;32m~\\AppData\\Local\\Temp\\ipykernel_12268\\3684329573.py\u001b[0m in \u001b[0;36m<module>\u001b[1;34m\u001b[0m\n\u001b[1;32m----> 1\u001b[1;33m \u001b[0masd\u001b[0m\u001b[1;33m\u001b[0m\u001b[1;33m\u001b[0m\u001b[0m\n\u001b[0m\u001b[0;32m      2\u001b[0m \u001b[0mprint\u001b[0m\u001b[1;33m(\u001b[0m\u001b[0masd\u001b[0m\u001b[1;33m)\u001b[0m\u001b[1;33m\u001b[0m\u001b[1;33m\u001b[0m\u001b[0m\n",
      "\u001b[1;31mNameError\u001b[0m: name 'asd' is not defined"
     ]
    }
   ],
   "source": [
    "asd\n",
    "print(asd)"
   ]
  },
  {
   "cell_type": "code",
   "execution_count": null,
   "id": "202e545d",
   "metadata": {},
   "outputs": [],
   "source": []
  }
 ],
 "metadata": {
  "kernelspec": {
   "display_name": "Python 3 (ipykernel)",
   "language": "python",
   "name": "python3"
  },
  "language_info": {
   "codemirror_mode": {
    "name": "ipython",
    "version": 3
   },
   "file_extension": ".py",
   "mimetype": "text/x-python",
   "name": "python",
   "nbconvert_exporter": "python",
   "pygments_lexer": "ipython3",
   "version": "3.9.13"
  }
 },
 "nbformat": 4,
 "nbformat_minor": 5
}
