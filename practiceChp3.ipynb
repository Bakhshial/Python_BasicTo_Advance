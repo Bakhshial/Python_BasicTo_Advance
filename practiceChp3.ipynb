{
 "cells": [
  {
   "cell_type": "markdown",
   "id": "25116a15",
   "metadata": {},
   "source": [
    "# Condition structure"
   ]
  },
  {
   "cell_type": "markdown",
   "id": "18aab400",
   "metadata": {},
   "source": [
    "# If statement\n",
    "The if statement is used to create a decision structure, which allows a \n",
    "program to have more than one path of execution. The if statement \n",
    "causes one or more statements to execute only when a Boolean \n",
    "expression is true.\n",
    "\n",
    "1.A control structure is a logical design that controls the order in which a set of statements\n",
    "execute.\n",
    "\n",
    "2.A sequence structure is a set of statements that execute in the order in\n",
    "which they appear."
   ]
  },
  {
   "cell_type": "markdown",
   "id": "c3647642",
   "metadata": {},
   "source": [
    "one that can execute a set of statements only under certain circumstances. \n",
    "This can be accomplished with a decision structure. (Decision structures are also\n",
    "known as selection structures.)"
   ]
  },
  {
   "cell_type": "markdown",
   "id": "5153c34d",
   "metadata": {},
   "source": [
    "# Boolean Expressions and Relational Operators\n",
    "1.The expressions that are tested by the if statement are called Boolean expressions.\n",
    "\n",
    "2.A relational operator determines whether a specific relationship exists\n",
    "between two values."
   ]
  },
  {
   "cell_type": "markdown",
   "id": "edcd3215",
   "metadata": {},
   "source": [
    "# if-else\n",
    "1.An if-else statement will execute one block of statements if its condition\n",
    "is true, or another block if its condition is false\n",
    "\n",
    "2.The previous section introduced the single alternative decision structure (the if statement),\n",
    "which has one alternative path of execution. Now, we will look at the dual alternative decision \n",
    "structure, which has two possible paths of execution—one path is taken if a condition\n",
    "is true, and the other path is taken if the condition is false"
   ]
  },
  {
   "cell_type": "code",
   "execution_count": 1,
   "id": "aff45028",
   "metadata": {},
   "outputs": [
    {
     "name": "stdout",
     "output_type": "stream",
     "text": [
      "False\n",
      "True\n",
      "False\n",
      "True\n",
      "False\n",
      "True\n"
     ]
    }
   ],
   "source": [
    "print(3>4)\n",
    "print(4<5)\n",
    "print(4>=6)\n",
    "print(4==4)\n",
    "print(4==3)\n",
    "print(3!=2)\n"
   ]
  },
  {
   "cell_type": "code",
   "execution_count": 3,
   "id": "001be44d",
   "metadata": {},
   "outputs": [
    {
     "name": "stdout",
     "output_type": "stream",
     "text": [
      "enter the sales: 23\n",
      "sales is less than  50000 23\n"
     ]
    }
   ],
   "source": [
    "sales=int(input(\"enter the sales: \"))\n",
    "if sales > 50000:\n",
    "    bonus = 500.0\n",
    "    commission_rate = 0.12\n",
    "    print('You met your sales quota!')\n",
    "else:\n",
    "    print(\"sales is less than  50000\",sales)"
   ]
  },
  {
   "cell_type": "code",
   "execution_count": 4,
   "id": "efe87dc3",
   "metadata": {},
   "outputs": [
    {
     "name": "stdout",
     "output_type": "stream",
     "text": [
      "enter the sales: 234\n",
      "your choise is: 234\n"
     ]
    }
   ],
   "source": [
    "choise=int(input(\"enter the sales: \"))\n",
    "if choise != 5:\n",
    "     print('your choise is:',choise)\n",
    "else:\n",
    "    print(\"your choise is: \",choise)"
   ]
  },
  {
   "cell_type": "code",
   "execution_count": 5,
   "id": "430e7db0",
   "metadata": {},
   "outputs": [
    {
     "name": "stdout",
     "output_type": "stream",
     "text": [
      "Enter the score for test 1: 45\n",
      "Enter the score for test 2: 5456\n",
      "Enter the score for test 3: 67567\n",
      "The average score is 24356.0\n",
      "Congratulations!\n",
      "That is a great average!\n"
     ]
    }
   ],
   "source": [
    "HIGH_SCORE = 91\n",
    "test1 = int(input('Enter the score for test 1: ' ))\n",
    "test2 = int(input('Enter the score for test 2: ' ))\n",
    "test3 = int(input('Enter the score for test 3: ' ))\n",
    "\n",
    "# Calculate the average test score.\n",
    "average = (test1 + test2 + test3) / 3\n",
    "\n",
    "# Print the average.\n",
    "print('The average score is', average)\n",
    "\n",
    "# If the average is a high score,\n",
    "# congratulate the user.\n",
    "if average >= HIGH_SCORE:\n",
    "    print('Congratulations!')\n",
    "    print('That is a great average!')\n",
    "else:\n",
    "    print(\"Try again\")"
   ]
  },
  {
   "cell_type": "code",
   "execution_count": 6,
   "id": "f8236857",
   "metadata": {},
   "outputs": [
    {
     "name": "stdout",
     "output_type": "stream",
     "text": [
      "enter the hours:34\n",
      "enter the pay rate: 45\n",
      "The gross pay is $1,530.00\n"
     ]
    }
   ],
   "source": [
    "BASE_HOURS=40\n",
    "TO_MULTIPLIER=1.5\n",
    "\n",
    "hours=float(input(\"enter the hours:\"))\n",
    "pay_rate=float(input(\"enter the pay rate: \"))\n",
    "if hours>BASE_HOURS:\n",
    "    #get over time\n",
    "    overtime=hours-BASE_HOURS\n",
    "    \n",
    "    overtime_pay_rate=overtime*pay_rate*TO_MULTIPLIER\n",
    "    gross_pay = BASE_HOURS * pay_rate + overtime_pay_rate\n",
    "else:\n",
    " # Calculate the gross pay without overtime.\n",
    "    gross_pay = hours * pay_rate\n",
    "# Display the gross pay.\n",
    "print('The gross pay is $', format(gross_pay, ',.2f'), sep='')"
   ]
  },
  {
   "cell_type": "markdown",
   "id": "7efe4bde",
   "metadata": {},
   "source": [
    "# Comparing string\n",
    "1.Python allows you to compare strings. This allows you to create decision\n",
    "structures that test the value of a string."
   ]
  },
  {
   "cell_type": "code",
   "execution_count": null,
   "id": "cceb2764",
   "metadata": {},
   "outputs": [],
   "source": [
    "name1 = 'Mary'\n",
    "name2 = 'Mark'\n",
    "if name1 == name2:\n",
    " print('The names are the same.')\n",
    "else:\n",
    " print('The names are NOT the same.')\n",
    "\n",
    "if 'a'>'b':\n",
    "    print(\"a is greater than b\")\n",
    "else:\n",
    "    print(\"a is less the b\")\n",
    "\n",
    "password=input(\"enter the password: \")\n",
    "    \n",
    "if password == '1234456':\n",
    "    print('Password accepted.')\n",
    "else:\n",
    "    print('Sorry, that is the wrong password.')"
   ]
  },
  {
   "cell_type": "markdown",
   "id": "3def1f27",
   "metadata": {},
   "source": [
    "# If_elif nested condition\n",
    "\n",
    "1.To test more than one condition, a decision structure can be nested\n",
    "inside another decision structure."
   ]
  },
  {
   "cell_type": "code",
   "execution_count": 10,
   "id": "4b58cb6f",
   "metadata": {},
   "outputs": [
    {
     "name": "stdout",
     "output_type": "stream",
     "text": [
      "enter the salary:23445334\n",
      "enter the year on the job:3\n",
      "you can get the loan:\n",
      " congratulation!\n"
     ]
    }
   ],
   "source": [
    "MIN_SAL=30000\n",
    "MIN_YEAR_ON_JOB=2\n",
    "\n",
    "sal=int(input(\"enter the salary:\"))\n",
    "if sal>=MIN_SAL:\n",
    "    year_on_job=int(input(\"enter the year on the job:\"))\n",
    "    if year_on_job>=MIN_YEAR_ON_JOB:\n",
    "        print(\"you can get the loan:\\n congratulation!\")\n",
    "    else:\n",
    "        print(\"you are year of job is less than 2:\")\n",
    "else:\n",
    "    print(\"your salary is less \",MIN_SAL)"
   ]
  },
  {
   "cell_type": "markdown",
   "id": "e06befd8",
   "metadata": {},
   "source": [
    "# Logical Operator\n",
    "1.The logical and operator and the logical or operator allow you to\n",
    "connect multiple Boolean expressions to create a compound expression.\n",
    "The logical not operator reverses the truth of a Boolean expression.\n",
    "2.Python provides a set of operators known as logical operators, which you can use to create\n",
    "complex Boolean expressions."
   ]
  },
  {
   "cell_type": "markdown",
   "id": "62b9ae4d",
   "metadata": {},
   "source": [
    "# Short-Circuit Evaluation\n",
    "Both the and and or operators perform short-circuit evaluation. Here’s how it works with\n",
    "the and operator: If the expression on the left side of the and operator is false,\n",
    "    the expression on the right side will not be checked."
   ]
  },
  {
   "cell_type": "code",
   "execution_count": 23,
   "id": "63188c00",
   "metadata": {},
   "outputs": [
    {
     "name": "stdout",
     "output_type": "stream",
     "text": [
      "False\n",
      "True\n",
      "False\n",
      "True\n",
      "False\n",
      "\n",
      "---not---\n",
      "True\n",
      "False\n",
      "\n",
      " ---or---\n",
      "True\n",
      "False\n",
      "True\n"
     ]
    }
   ],
   "source": [
    "x=3\n",
    "y=4\n",
    "z=3\n",
    "print(x>y and z==x)\n",
    "print(x<y and z==x)\n",
    "print(x>y and z<x)\n",
    "print(x<=y and z==x)\n",
    "print(x>y and z==x)\n",
    "print(\"\\n---not---\")\n",
    "print(not(x>y) and z==x)\n",
    "print(not(True))\n",
    "print(\"\\n ---or---\")\n",
    "print(x>y or z==x)\n",
    "print(x>y and z>x)\n",
    "print(x<y and z==x)"
   ]
  },
  {
   "cell_type": "code",
   "execution_count": null,
   "id": "e2c8b21b",
   "metadata": {},
   "outputs": [],
   "source": []
  }
 ],
 "metadata": {
  "kernelspec": {
   "display_name": "Python 3 (ipykernel)",
   "language": "python",
   "name": "python3"
  },
  "language_info": {
   "codemirror_mode": {
    "name": "ipython",
    "version": 3
   },
   "file_extension": ".py",
   "mimetype": "text/x-python",
   "name": "python",
   "nbconvert_exporter": "python",
   "pygments_lexer": "ipython3",
   "version": "3.9.13"
  }
 },
 "nbformat": 4,
 "nbformat_minor": 5
}
