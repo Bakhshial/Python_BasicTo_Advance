{
 "cells": [
  {
   "cell_type": "markdown",
   "id": "4b8b1426",
   "metadata": {},
   "source": [
    "A sequence is an object that holds multiple items of data, stored one \n",
    "after the other. You can perform operations on a sequence to examine \n",
    "and manipulate the items stored in it"
   ]
  },
  {
   "cell_type": "markdown",
   "id": "a80a138b",
   "metadata": {},
   "source": [
    "# list\n",
    "A list is an object that contains multiple data items. Lists are mutable, \n",
    "which means that their contents can be changed during a program’s \n",
    "execution. Lists are dynamic data structures, meaning that items may be \n",
    "added to them or removed from them. You can use indexing, slicing, and \n",
    "various methods to work with lists in a program"
   ]
  },
  {
   "cell_type": "code",
   "execution_count": 1,
   "id": "38ba7b9b",
   "metadata": {},
   "outputs": [
    {
     "name": "stdout",
     "output_type": "stream",
     "text": [
      "[1, 2, 3, 4, 5]\n",
      "['Molly', 'Steven', 'Will', 'Alicia', 'Adriana']\n"
     ]
    },
    {
     "data": {
      "text/plain": [
       "[1, 3, 5, 7, 9]"
      ]
     },
     "execution_count": 1,
     "metadata": {},
     "output_type": "execute_result"
    }
   ],
   "source": [
    "n=[1,2,3,4,5]\n",
    "print(n)\n",
    "names = ['Molly', 'Steven', 'Will', 'Alicia', 'Adriana']\n",
    "print(names)\n",
    "numbers = list(range(1, 10, 2))\n",
    "numbers"
   ]
  },
  {
   "cell_type": "markdown",
   "id": "5689df43",
   "metadata": {},
   "source": [
    "The Repetition Operator\n",
    "the * symbol multiplies two numbers. However, when the \n",
    "operand on the left side of the * symbol is a sequence (such as a list) and the operand on \n",
    "the right side is an integer, it becomes the repetition operator."
   ]
  },
  {
   "cell_type": "code",
   "execution_count": 2,
   "id": "e0e8a4eb",
   "metadata": {},
   "outputs": [
    {
     "name": "stdout",
     "output_type": "stream",
     "text": [
      "[0, 0, 0, 0, 0]\n",
      "[1, 1, 1, 1, 1, 1, 1, 1]\n",
      "[1, 2, 3, 1, 2, 3, 1, 2, 3]\n",
      "1\n",
      "2\n",
      "3\n",
      "1\n"
     ]
    }
   ],
   "source": [
    "n=[0]*5\n",
    "print(n)\n",
    "n=[1]*8\n",
    "print(n)\n",
    "n=[1,2,3]*3\n",
    "print(n)\n",
    "index = 0\n",
    "while index < 4:\n",
    "    print(n[index])\n",
    "    index += 1"
   ]
  },
  {
   "cell_type": "code",
   "execution_count": null,
   "id": "a74d14ac",
   "metadata": {},
   "outputs": [],
   "source": []
  },
  {
   "cell_type": "code",
   "execution_count": 3,
   "id": "d9cbfed0",
   "metadata": {},
   "outputs": [
    {
     "name": "stdout",
     "output_type": "stream",
     "text": [
      "[1, 2, 99, 4, 5]\n",
      "[10, 10, 10, 10, 10]\n",
      "[1, 2, 3]\n",
      "[10, 20, 30]\n",
      "[1, 2, 3, 10, 20, 30]\n"
     ]
    }
   ],
   "source": [
    "numbers = [1, 2, 3, 4, 5]\n",
    "numbers[2] = 99\n",
    "print(numbers)\n",
    "numbers = [10] * 5\n",
    "print(numbers)\n",
    "\n",
    "numbers1 = [1, 2, 3]\n",
    "numbers2 = [10, 20, 30]\n",
    "numbers3 = numbers1 + numbers2\n",
    "print(numbers1)\n",
    "print(numbers2)\n",
    "print(numbers3)"
   ]
  },
  {
   "cell_type": "code",
   "execution_count": 4,
   "id": "1a0cff75",
   "metadata": {},
   "outputs": [
    {
     "name": "stdout",
     "output_type": "stream",
     "text": [
      "10\n",
      "10\n",
      "10\n",
      "10\n",
      "10\n"
     ]
    }
   ],
   "source": [
    "#Iterating over a List with the for Loop\n",
    "my_list= [99, 100, 101, 102]\n",
    "for n in numbers:\n",
    "    print(n)\n"
   ]
  },
  {
   "cell_type": "markdown",
   "id": "30ffc841",
   "metadata": {},
   "source": [
    "Indexing\n",
    "Another way that you can access the individual elements in a list is with an index."
   ]
  },
  {
   "cell_type": "code",
   "execution_count": 5,
   "id": "b3d5d3e0",
   "metadata": {},
   "outputs": [
    {
     "name": "stdout",
     "output_type": "stream",
     "text": [
      "99 100 101 102\n",
      "99\n",
      "100\n",
      "101\n",
      "102\n"
     ]
    }
   ],
   "source": [
    "print(my_list[0], my_list[1], my_list[2], my_list[3])\n",
    "index = 0\n",
    "while index < 4:\n",
    "    print(my_list[index])\n",
    "    index += 1"
   ]
  },
  {
   "cell_type": "code",
   "execution_count": 6,
   "id": "2f1d0263",
   "metadata": {},
   "outputs": [
    {
     "name": "stdout",
     "output_type": "stream",
     "text": [
      "40 30 20 10\n"
     ]
    }
   ],
   "source": [
    "my_list = [10, 20, 30, 40]\n",
    "print(my_list[-1],my_list[-2],my_list[-3],my_list[-4])"
   ]
  },
  {
   "cell_type": "markdown",
   "id": "7ec9a596",
   "metadata": {},
   "source": [
    "# Concatenating Lists"
   ]
  },
  {
   "cell_type": "code",
   "execution_count": 7,
   "id": "8e975488",
   "metadata": {},
   "outputs": [
    {
     "name": "stdout",
     "output_type": "stream",
     "text": [
      "[1, 2, 3, 4, 5, 6, 7, 8]\n"
     ]
    },
    {
     "data": {
      "text/plain": [
       "[1, 2, 3, 4, 5, 6, 7, 8, 5, 6, 7, 8, 'Joanne', 'Karen', 'Lori']"
      ]
     },
     "execution_count": 7,
     "metadata": {},
     "output_type": "execute_result"
    }
   ],
   "source": [
    "list1 = [1, 2, 3, 4]\n",
    "list2 = [5, 6, 7, 8]\n",
    "list1 += list2\n",
    "print(list1)\n",
    "list3=['Joanne', 'Karen', 'Lori']\n",
    "list4 = list1 + list2+list3\n",
    "list4"
   ]
  },
  {
   "cell_type": "markdown",
   "id": "465a610d",
   "metadata": {},
   "source": [
    "# Slicing\n",
    "A slicing expression selects a range of elements from a sequence\n",
    "\n",
    "list_name[start : end]"
   ]
  },
  {
   "cell_type": "code",
   "execution_count": 8,
   "id": "a9607304",
   "metadata": {},
   "outputs": [
    {
     "data": {
      "text/plain": [
       "['Sunday', 'Monday', 'Tuesday', 'Wednesday', 'Thursday']"
      ]
     },
     "execution_count": 8,
     "metadata": {},
     "output_type": "execute_result"
    }
   ],
   "source": [
    "days = ['Sunday', 'Monday', 'Tuesday', 'Wednesday',\n",
    " 'Thursday', 'Friday', 'Saturday']\n",
    "days\n",
    "days[0:5]\n"
   ]
  },
  {
   "cell_type": "code",
   "execution_count": 9,
   "id": "526dd1a9",
   "metadata": {},
   "outputs": [
    {
     "data": {
      "text/plain": [
       "['Sunday', 'Monday', 'Tuesday']"
      ]
     },
     "execution_count": 9,
     "metadata": {},
     "output_type": "execute_result"
    }
   ],
   "source": [
    "days[:3]"
   ]
  },
  {
   "cell_type": "code",
   "execution_count": 10,
   "id": "26cb0651",
   "metadata": {},
   "outputs": [
    {
     "data": {
      "text/plain": [
       "['Tuesday', 'Wednesday', 'Thursday', 'Friday', 'Saturday']"
      ]
     },
     "execution_count": 10,
     "metadata": {},
     "output_type": "execute_result"
    }
   ],
   "source": [
    "days[2:]"
   ]
  },
  {
   "cell_type": "code",
   "execution_count": 11,
   "id": "8630b7b7",
   "metadata": {},
   "outputs": [
    {
     "name": "stdout",
     "output_type": "stream",
     "text": [
      "['Sunday', 'Monday', 'Tuesday', 'Wednesday', 'Thursday', 'Friday', 'Saturday']\n"
     ]
    },
    {
     "data": {
      "text/plain": [
       "['Sunday', 'Monday', 'Tuesday', 'Wednesday', 'Thursday', 'Friday', 'Saturday']"
      ]
     },
     "execution_count": 11,
     "metadata": {},
     "output_type": "execute_result"
    }
   ],
   "source": [
    "print(days[:])\n",
    "days"
   ]
  },
  {
   "cell_type": "code",
   "execution_count": 12,
   "id": "1c28641b",
   "metadata": {},
   "outputs": [
    {
     "name": "stdout",
     "output_type": "stream",
     "text": [
      "[6, 7, 8, 9, 10]\n"
     ]
    },
    {
     "data": {
      "text/plain": [
       "[1, 3, 5, 7, 9]"
      ]
     },
     "execution_count": 12,
     "metadata": {},
     "output_type": "execute_result"
    }
   ],
   "source": [
    "l=[1,2,3,4,5,6,7,8,9,10]\n",
    "print(l[-5:])\n",
    "l[0:10:2]"
   ]
  },
  {
   "cell_type": "code",
   "execution_count": 13,
   "id": "da2c65c8",
   "metadata": {},
   "outputs": [
    {
     "name": "stdout",
     "output_type": "stream",
     "text": [
      "Hollyday\n"
     ]
    }
   ],
   "source": [
    "if 'Sunday' in days:\n",
    "    print(\"Hollyday\")"
   ]
  },
  {
   "cell_type": "code",
   "execution_count": 14,
   "id": "fad0e224",
   "metadata": {},
   "outputs": [],
   "source": [
    "days = ['Sunday', 'Monday', 'Tuesday', 'Wednesday',\n",
    " 'Thursday', 'Friday', 'Saturday']"
   ]
  },
  {
   "cell_type": "markdown",
   "id": "454bdae7",
   "metadata": {},
   "source": [
    "# In and Not in\n",
    "used for searching"
   ]
  },
  {
   "cell_type": "code",
   "execution_count": 15,
   "id": "a3333065",
   "metadata": {},
   "outputs": [
    {
     "ename": "KeyboardInterrupt",
     "evalue": "Interrupted by user",
     "output_type": "error",
     "traceback": [
      "\u001b[1;31m---------------------------------------------------------------------------\u001b[0m",
      "\u001b[1;31mKeyboardInterrupt\u001b[0m                         Traceback (most recent call last)",
      "\u001b[1;32m~\\AppData\\Local\\Temp\\ipykernel_5376\\1023474461.py\u001b[0m in \u001b[0;36m<module>\u001b[1;34m\u001b[0m\n\u001b[1;32m----> 1\u001b[1;33m \u001b[0msearch\u001b[0m\u001b[1;33m=\u001b[0m\u001b[0minput\u001b[0m\u001b[1;33m(\u001b[0m\u001b[1;34m\"search the days:\"\u001b[0m\u001b[1;33m)\u001b[0m\u001b[1;33m\u001b[0m\u001b[1;33m\u001b[0m\u001b[0m\n\u001b[0m\u001b[0;32m      2\u001b[0m \u001b[1;32mif\u001b[0m \u001b[0msearch\u001b[0m \u001b[1;32min\u001b[0m \u001b[0mdays\u001b[0m\u001b[1;33m:\u001b[0m\u001b[1;33m\u001b[0m\u001b[1;33m\u001b[0m\u001b[0m\n\u001b[0;32m      3\u001b[0m     \u001b[0mprint\u001b[0m\u001b[1;33m(\u001b[0m\u001b[1;34m\"this day is :\"\u001b[0m\u001b[1;33m,\u001b[0m\u001b[0msearch\u001b[0m\u001b[1;33m)\u001b[0m\u001b[1;33m\u001b[0m\u001b[1;33m\u001b[0m\u001b[0m\n\u001b[0;32m      4\u001b[0m \u001b[1;32melse\u001b[0m\u001b[1;33m:\u001b[0m\u001b[1;33m\u001b[0m\u001b[1;33m\u001b[0m\u001b[0m\n\u001b[0;32m      5\u001b[0m     \u001b[0mprint\u001b[0m\u001b[1;33m(\u001b[0m\u001b[1;34m\"invalid!\"\u001b[0m\u001b[1;33m)\u001b[0m\u001b[1;33m\u001b[0m\u001b[1;33m\u001b[0m\u001b[0m\n",
      "\u001b[1;32m~\\anaconda3\\lib\\site-packages\\ipykernel\\kernelbase.py\u001b[0m in \u001b[0;36mraw_input\u001b[1;34m(self, prompt)\u001b[0m\n\u001b[0;32m   1175\u001b[0m                 \u001b[1;34m\"raw_input was called, but this frontend does not support input requests.\"\u001b[0m\u001b[1;33m\u001b[0m\u001b[1;33m\u001b[0m\u001b[0m\n\u001b[0;32m   1176\u001b[0m             )\n\u001b[1;32m-> 1177\u001b[1;33m         return self._input_request(\n\u001b[0m\u001b[0;32m   1178\u001b[0m             \u001b[0mstr\u001b[0m\u001b[1;33m(\u001b[0m\u001b[0mprompt\u001b[0m\u001b[1;33m)\u001b[0m\u001b[1;33m,\u001b[0m\u001b[1;33m\u001b[0m\u001b[1;33m\u001b[0m\u001b[0m\n\u001b[0;32m   1179\u001b[0m             \u001b[0mself\u001b[0m\u001b[1;33m.\u001b[0m\u001b[0m_parent_ident\u001b[0m\u001b[1;33m[\u001b[0m\u001b[1;34m\"shell\"\u001b[0m\u001b[1;33m]\u001b[0m\u001b[1;33m,\u001b[0m\u001b[1;33m\u001b[0m\u001b[1;33m\u001b[0m\u001b[0m\n",
      "\u001b[1;32m~\\anaconda3\\lib\\site-packages\\ipykernel\\kernelbase.py\u001b[0m in \u001b[0;36m_input_request\u001b[1;34m(self, prompt, ident, parent, password)\u001b[0m\n\u001b[0;32m   1217\u001b[0m             \u001b[1;32mexcept\u001b[0m \u001b[0mKeyboardInterrupt\u001b[0m\u001b[1;33m:\u001b[0m\u001b[1;33m\u001b[0m\u001b[1;33m\u001b[0m\u001b[0m\n\u001b[0;32m   1218\u001b[0m                 \u001b[1;31m# re-raise KeyboardInterrupt, to truncate traceback\u001b[0m\u001b[1;33m\u001b[0m\u001b[1;33m\u001b[0m\u001b[0m\n\u001b[1;32m-> 1219\u001b[1;33m                 \u001b[1;32mraise\u001b[0m \u001b[0mKeyboardInterrupt\u001b[0m\u001b[1;33m(\u001b[0m\u001b[1;34m\"Interrupted by user\"\u001b[0m\u001b[1;33m)\u001b[0m \u001b[1;32mfrom\u001b[0m \u001b[1;32mNone\u001b[0m\u001b[1;33m\u001b[0m\u001b[1;33m\u001b[0m\u001b[0m\n\u001b[0m\u001b[0;32m   1220\u001b[0m             \u001b[1;32mexcept\u001b[0m \u001b[0mException\u001b[0m\u001b[1;33m:\u001b[0m\u001b[1;33m\u001b[0m\u001b[1;33m\u001b[0m\u001b[0m\n\u001b[0;32m   1221\u001b[0m                 \u001b[0mself\u001b[0m\u001b[1;33m.\u001b[0m\u001b[0mlog\u001b[0m\u001b[1;33m.\u001b[0m\u001b[0mwarning\u001b[0m\u001b[1;33m(\u001b[0m\u001b[1;34m\"Invalid Message:\"\u001b[0m\u001b[1;33m,\u001b[0m \u001b[0mexc_info\u001b[0m\u001b[1;33m=\u001b[0m\u001b[1;32mTrue\u001b[0m\u001b[1;33m)\u001b[0m\u001b[1;33m\u001b[0m\u001b[1;33m\u001b[0m\u001b[0m\n",
      "\u001b[1;31mKeyboardInterrupt\u001b[0m: Interrupted by user"
     ]
    }
   ],
   "source": [
    "search=input(\"search the days:\")\n",
    "if search in days:\n",
    "    print(\"this day is :\",search)\n",
    "else:\n",
    "    print(\"invalid!\")\n"
   ]
  },
  {
   "cell_type": "code",
   "execution_count": null,
   "id": "1573d175",
   "metadata": {},
   "outputs": [],
   "source": [
    "items=[\"milk\",\"apple\",\"patata\"]  \n",
    "search=input(\"search the item:\")\n",
    "if search in items:\n",
    "    print(\"this item is :\",search)\n",
    "else:\n",
    "    print(\"invalid!\")"
   ]
  },
  {
   "cell_type": "code",
   "execution_count": null,
   "id": "8569ac9d",
   "metadata": {},
   "outputs": [],
   "source": [
    " names = ['Jim', 'Jill', 'John', 'Jasmine']\n",
    " if 'Jasmine' not in names:\n",
    " print('Cannot find Jasmine.')\n",
    " else:\n",
    " print(\"Jasmine's family:\")\n",
    " print(names"
   ]
  },
  {
   "cell_type": "code",
   "execution_count": null,
   "id": "a4e0ccc4",
   "metadata": {},
   "outputs": [],
   "source": [
    "s=\"\"\"Your search for Gsuite online advertising collaboration platform work \n",
    "ends here. Receptix.us is a global job marketplace that has created a \n",
    "tangible and seamless bridge between job aspirants and potential employment \n",
    "opportunities. We offer millions of jobs in destinations across the \n",
    "globe to make your job hunt as seamless as possible with our world-class \n",
    "programmatic technology. We believe that great talent has no regional \n",
    "boundaries and with the worldwide shift towards remote working, has emerged \n",
    "as a preferred destination to look for remote as well as on-site \n",
    "opportunities in a single-point access with customised job recommendations \n",
    "to match your career interests.\n",
    "So if you're looking for a job, be it part-time or full-time, on-site \n",
    "or work-from-home - Receptix.us has got you covered!\n",
    "\"\"\"\n",
    "s\n",
    "\n",
    "s1=s.split(\"\\n\")"
   ]
  },
  {
   "cell_type": "code",
   "execution_count": null,
   "id": "3e4265f4",
   "metadata": {},
   "outputs": [],
   "source": [
    "s1"
   ]
  },
  {
   "cell_type": "code",
   "execution_count": null,
   "id": "0a446525",
   "metadata": {},
   "outputs": [],
   "source": [
    "s1=s.split(\".\") #seprate according to the line\n",
    "s1\n",
    "s.count(\"s\")\n",
    "s.count(\"word\")"
   ]
  },
  {
   "cell_type": "code",
   "execution_count": null,
   "id": "b91184c9",
   "metadata": {},
   "outputs": [],
   "source": [
    "import numpy as np\n",
    "x=np.arange(12).reshape(3,4)\n",
    "x"
   ]
  },
  {
   "cell_type": "code",
   "execution_count": null,
   "id": "ac8bcc71",
   "metadata": {},
   "outputs": [],
   "source": [
    "r=np.array([])"
   ]
  },
  {
   "cell_type": "markdown",
   "id": "1b29437f",
   "metadata": {},
   "source": [
    "# List Function"
   ]
  },
  {
   "cell_type": "code",
   "execution_count": 19,
   "id": "ebf1b20e",
   "metadata": {},
   "outputs": [
    {
     "name": "stdout",
     "output_type": "stream",
     "text": [
      "enter the value:4\n",
      "Enter y if you continue:y\n",
      "enter the value:5\n",
      "Enter y if you continue:y\n",
      "enter the value:6\n",
      "Enter y if you continue:y\n",
      "enter the value:7\n",
      "Enter y if you continue:y\n",
      "enter the value:7\n",
      "Enter y if you continue:f\n"
     ]
    },
    {
     "data": {
      "text/plain": [
       "[4, 5, 6, 7, 7]"
      ]
     },
     "execution_count": 19,
     "metadata": {},
     "output_type": "execute_result"
    }
   ],
   "source": [
    "#append\n",
    "l=[]\n",
    "a='y'\n",
    "while a=='y':\n",
    "    n=int(input(\"enter the value:\"))\n",
    "    l.append(n)\n",
    "    a=input(\"Enter y if you continue:\")\n",
    "l"
   ]
  },
  {
   "cell_type": "code",
   "execution_count": 20,
   "id": "1e3b9e22",
   "metadata": {},
   "outputs": [
    {
     "data": {
      "text/plain": [
       "[4, 5, 6, 7, 7]"
      ]
     },
     "execution_count": 20,
     "metadata": {},
     "output_type": "execute_result"
    }
   ],
   "source": [
    "l"
   ]
  },
  {
   "cell_type": "code",
   "execution_count": 22,
   "id": "8795a711",
   "metadata": {},
   "outputs": [],
   "source": [
    "l.insert(2,9)"
   ]
  },
  {
   "cell_type": "code",
   "execution_count": 23,
   "id": "d1e1131c",
   "metadata": {},
   "outputs": [
    {
     "data": {
      "text/plain": [
       "[4, 5, 9, 6, 7, 7]"
      ]
     },
     "execution_count": 23,
     "metadata": {},
     "output_type": "execute_result"
    }
   ],
   "source": [
    "l"
   ]
  },
  {
   "cell_type": "code",
   "execution_count": 25,
   "id": "313e8ad0",
   "metadata": {},
   "outputs": [
    {
     "data": {
      "text/plain": [
       "[1, 2, 2, 3, 5, 5, 6, 8, 9]"
      ]
     },
     "execution_count": 25,
     "metadata": {},
     "output_type": "execute_result"
    }
   ],
   "source": [
    "l=[3,5,5,2,9,8,6,1,2]\n",
    "l.sort()\n",
    "l"
   ]
  },
  {
   "cell_type": "code",
   "execution_count": 37,
   "id": "775e85c0",
   "metadata": {},
   "outputs": [
    {
     "name": "stdout",
     "output_type": "stream",
     "text": [
      "list1: [1, 2, 3, 4, 4]\n",
      "list2: [1, 2, 3, 4, 67]\n",
      "list3: [1, 2, 3, 4, 67]\n",
      "list4: [34, 2, 3, 4, 67]\n",
      "list3: [1, 2, 3, 4, 67]\n"
     ]
    }
   ],
   "source": [
    "#copy\n",
    "list1=[1,2,3,4,4]\n",
    "print(\"list1:\",list1)\n",
    "list2=list1\n",
    "list2[4]=67\n",
    "print(\"list2:\",list2)\n",
    "list3=[]+list1\n",
    "print(\"list3:\",list3)\n",
    "list4=list1.copy()\n",
    "list4[0]=34\n",
    "print(\"list4:\",list4)\n",
    "\n",
    "print(\"list3:\",list3)"
   ]
  },
  {
   "cell_type": "code",
   "execution_count": 44,
   "id": "7f7293b1",
   "metadata": {},
   "outputs": [
    {
     "name": "stdout",
     "output_type": "stream",
     "text": [
      "[[1, 2], [3, 4], [5, 6], [7, 8]]\n",
      "first row: [1, 2]\n",
      "first second: [3, 4]\n",
      "first row: []\n"
     ]
    }
   ],
   "source": [
    "# Two Dimensional list\n",
    "list1=[[1,2],[3,4],[5,6],[7,8]]\n",
    "print(list1)\n",
    "print(\"first row:\",list1[0])\n",
    "print(\"first second:\",list1[1])\n",
    "print(\"first row:\",list1[])"
   ]
  },
  {
   "cell_type": "code",
   "execution_count": 50,
   "id": "735de168",
   "metadata": {},
   "outputs": [
    {
     "data": {
      "text/plain": [
       "[[1, 2, 3], [4, 5, 6], [7, 8, 8]]"
      ]
     },
     "execution_count": 50,
     "metadata": {},
     "output_type": "execute_result"
    }
   ],
   "source": [
    "scores = [[1, 2, 3],\n",
    "          [4, 5,6],\n",
    "          [7, 8, 8]]\n",
    "scores"
   ]
  },
  {
   "cell_type": "code",
   "execution_count": 52,
   "id": "a2dd1186",
   "metadata": {},
   "outputs": [
    {
     "data": {
      "text/plain": [
       "1"
      ]
     },
     "execution_count": 52,
     "metadata": {},
     "output_type": "execute_result"
    }
   ],
   "source": [
    "#scores[row][column]\n",
    "\n",
    "scores[0][0]"
   ]
  },
  {
   "cell_type": "code",
   "execution_count": 53,
   "id": "3d6b9855",
   "metadata": {},
   "outputs": [
    {
     "data": {
      "text/plain": [
       "5"
      ]
     },
     "execution_count": 53,
     "metadata": {},
     "output_type": "execute_result"
    }
   ],
   "source": [
    "scores[1][1]"
   ]
  },
  {
   "cell_type": "code",
   "execution_count": 54,
   "id": "2d67a2dd",
   "metadata": {},
   "outputs": [
    {
     "data": {
      "text/plain": [
       "[7, 8, 8]"
      ]
     },
     "execution_count": 54,
     "metadata": {},
     "output_type": "execute_result"
    }
   ],
   "source": [
    "scores[:][2]"
   ]
  },
  {
   "cell_type": "code",
   "execution_count": 61,
   "id": "bf996b1e",
   "metadata": {},
   "outputs": [
    {
     "data": {
      "text/plain": [
       "['Labrador']"
      ]
     },
     "execution_count": 61,
     "metadata": {},
     "output_type": "execute_result"
    }
   ],
   "source": [
    "mylist=[]\n",
    "#mylist.insert(0, 'Labrador')\n",
    "mylist"
   ]
  },
  {
   "cell_type": "code",
   "execution_count": 62,
   "id": "dcee52ec",
   "metadata": {},
   "outputs": [
    {
     "name": "stdout",
     "output_type": "stream",
     "text": [
      "abc123\n"
     ]
    }
   ],
   "source": [
    "mystr = 'abc'\n",
    "mystr2 = '123'\n",
    "mystr += mystr2\n",
    "print(mystr)"
   ]
  },
  {
   "cell_type": "code",
   "execution_count": 63,
   "id": "48a6dffc",
   "metadata": {},
   "outputs": [
    {
     "name": "stdout",
     "output_type": "stream",
     "text": [
      "abcabcabc\n"
     ]
    }
   ],
   "source": [
    "mystr = 'abc' * 3\n",
    "print(mystr)"
   ]
  },
  {
   "cell_type": "code",
   "execution_count": 64,
   "id": "c3d627ba",
   "metadata": {},
   "outputs": [
    {
     "name": "stdout",
     "output_type": "stream",
     "text": [
      "dab\n"
     ]
    }
   ],
   "source": [
    "mystr = 'abracadabra'\n",
    "print(mystr[6:9])"
   ]
  },
  {
   "cell_type": "code",
   "execution_count": null,
   "id": "9253018a",
   "metadata": {},
   "outputs": [],
   "source": []
  }
 ],
 "metadata": {
  "kernelspec": {
   "display_name": "Python 3 (ipykernel)",
   "language": "python",
   "name": "python3"
  },
  "language_info": {
   "codemirror_mode": {
    "name": "ipython",
    "version": 3
   },
   "file_extension": ".py",
   "mimetype": "text/x-python",
   "name": "python",
   "nbconvert_exporter": "python",
   "pygments_lexer": "ipython3",
   "version": "3.9.13"
  }
 },
 "nbformat": 4,
 "nbformat_minor": 5
}
