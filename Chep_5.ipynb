{
 "cells": [
  {
   "cell_type": "markdown",
   "id": "b603fafe",
   "metadata": {},
   "source": [
    "# Function\n",
    "1.A function is a group of statements that exist within a program for the \n",
    "purpose of performing a specific task.\n",
    "2.Most programs perform tasks that are large enough to be \n",
    "broken down into several subtasks. \n",
    "\n",
    "This approach is sometimes called divide and conquer because a large task \n",
    "is divided into several smaller tasks that are easily performed. "
   ]
  },
  {
   "cell_type": "markdown",
   "id": "7a260bd5",
   "metadata": {},
   "source": [
    "A program that has been written with each task in its own function is called a modularized \n",
    "program"
   ]
  },
  {
   "cell_type": "markdown",
   "id": "dcaea454",
   "metadata": {},
   "source": [
    "Defining and Calling a Function\n",
    "To create a function, you write its definition. Here is the general format of a function definition in Python:\n",
    "def function_name():\n",
    " statement\n",
    " statement\n",
    " etc."
   ]
  },
  {
   "cell_type": "code",
   "execution_count": 1,
   "id": "9a818bb3",
   "metadata": {},
   "outputs": [
    {
     "name": "stdout",
     "output_type": "stream",
     "text": [
      "Hi you looking beautiful\n",
      "please you do Parda from other people and specially from me thanks\n"
     ]
    }
   ],
   "source": [
    "def fun():\n",
    "    print(\"Hi you looking beautiful\")\n",
    "    print(\"please you do Parda from other people and specially from me thanks\")\n",
    "#Call the function\n",
    "fun()"
   ]
  },
  {
   "cell_type": "markdown",
   "id": "fcac22ce",
   "metadata": {},
   "source": [
    "# Designed program for a function\n",
    "Programmers commonly use a technique known as top-down design to \n",
    "break down an algorithm into functions"
   ]
  },
  {
   "cell_type": "markdown",
   "id": "31f84561",
   "metadata": {},
   "source": [
    "# Hierarchy Charts\n",
    "Flowcharts are good tools for graphically depicting the flow of logic inside a function, but \n",
    "they do not give a visual representation of the relationships between functions. Programmers \n",
    "commonly use hierarchy charts for this purpose. A hierarchy chart, which is also known \n",
    "as a structure chart, shows boxes that represent each function in a program."
   ]
  },
  {
   "cell_type": "markdown",
   "id": "8ad6d521",
   "metadata": {},
   "source": [
    "# Scope and Local Variables\n",
    "A variable’s scope is the part of a program in which the variable may be accessed. A vari\u0002able is visible only to statements in the variable’s scope. A local variable’s scope is the \n",
    "function in which the variable is created"
   ]
  },
  {
   "cell_type": "markdown",
   "id": "7b881207",
   "metadata": {},
   "source": [
    "An argument is any piece of data that is passed into a function when the \n",
    "function is called. A parameter is a variable that receives an argument \n",
    "that is passed into a function"
   ]
  },
  {
   "cell_type": "code",
   "execution_count": 2,
   "id": "f815fb31",
   "metadata": {},
   "outputs": [
    {
     "name": "stdout",
     "output_type": "stream",
     "text": [
      "68.64\n"
     ]
    }
   ],
   "source": [
    "def show_double(number):\n",
    "    result = number * 2\n",
    "    print(result)\n",
    "show_double(34.32)"
   ]
  },
  {
   "cell_type": "code",
   "execution_count": 3,
   "id": "abb1d7be",
   "metadata": {},
   "outputs": [],
   "source": [
    "def main():\n",
    "    value = 99\n",
    "    print('The value is', value)\n",
    "    change_me(value)\n",
    "    print('Back in main the value is', value)\n",
    "def change_me(arg):\n",
    "    print('I am changing the value.')\n",
    "    arg = 0\n",
    "    print('Now the value is', arg)"
   ]
  },
  {
   "cell_type": "markdown",
   "id": "0773aa0b",
   "metadata": {},
   "source": [
    "# Standard Library Functions and the import Statement"
   ]
  },
  {
   "cell_type": "code",
   "execution_count": 4,
   "id": "dd0ed780",
   "metadata": {},
   "outputs": [
    {
     "name": "stdout",
     "output_type": "stream",
     "text": [
      "random: 3\n",
      "7\n",
      "28\n",
      "54\n",
      "76\n",
      "27\n",
      "23\n",
      "25\n",
      "13\n",
      "96\n",
      "0\n"
     ]
    }
   ],
   "source": [
    "import random\n",
    "n=random.randint(1,10)\n",
    "print(\"random:\",n)\n",
    "for i in range(1,10):\n",
    "    a=random.randint(1,100)\n",
    "    print(a)\n",
    "for i in range(random.randint(1,10)):\n",
    "    print(i)"
   ]
  },
  {
   "cell_type": "code",
   "execution_count": 5,
   "id": "c8bb6fd5",
   "metadata": {},
   "outputs": [
    {
     "name": "stdout",
     "output_type": "stream",
     "text": [
      "1\n",
      "5\n",
      "9\n",
      "9\n",
      "1\n",
      "1\n"
     ]
    }
   ],
   "source": [
    "n=random.randrange(1,10,4)\n",
    "print(n)\n",
    "for i in range(5):\n",
    "    a=random.randrange(1,10,4)\n",
    "    print(a)"
   ]
  },
  {
   "cell_type": "code",
   "execution_count": 6,
   "id": "9e4cf02e",
   "metadata": {},
   "outputs": [
    {
     "ename": "KeyboardInterrupt",
     "evalue": "Interrupted by user",
     "output_type": "error",
     "traceback": [
      "\u001b[1;31m---------------------------------------------------------------------------\u001b[0m",
      "\u001b[1;31mKeyboardInterrupt\u001b[0m                         Traceback (most recent call last)",
      "\u001b[1;32m~\\AppData\\Local\\Temp\\ipykernel_9244\\3719270666.py\u001b[0m in \u001b[0;36m<module>\u001b[1;34m\u001b[0m\n\u001b[0;32m      1\u001b[0m \u001b[0mMIN\u001b[0m\u001b[1;33m=\u001b[0m\u001b[1;36m1\u001b[0m\u001b[1;33m\u001b[0m\u001b[1;33m\u001b[0m\u001b[0m\n\u001b[0;32m      2\u001b[0m \u001b[0mMAX\u001b[0m\u001b[1;33m=\u001b[0m\u001b[1;36m6\u001b[0m\u001b[1;33m\u001b[0m\u001b[1;33m\u001b[0m\u001b[0m\n\u001b[1;32m----> 3\u001b[1;33m \u001b[0mkeep\u001b[0m\u001b[1;33m=\u001b[0m\u001b[0minput\u001b[0m\u001b[1;33m(\u001b[0m\u001b[1;34m\"enter y to continue:\"\u001b[0m\u001b[1;33m)\u001b[0m\u001b[1;33m\u001b[0m\u001b[1;33m\u001b[0m\u001b[0m\n\u001b[0m\u001b[0;32m      4\u001b[0m \u001b[1;32mwhile\u001b[0m \u001b[0mkeep\u001b[0m\u001b[1;33m==\u001b[0m\u001b[1;34m'y'\u001b[0m \u001b[1;32mor\u001b[0m \u001b[0mkeep\u001b[0m\u001b[1;33m==\u001b[0m\u001b[1;34m'Y'\u001b[0m\u001b[1;33m:\u001b[0m\u001b[1;33m\u001b[0m\u001b[1;33m\u001b[0m\u001b[0m\n\u001b[0;32m      5\u001b[0m     \u001b[0mprint\u001b[0m\u001b[1;33m(\u001b[0m\u001b[1;34m\"Rolling the dice . . .\"\u001b[0m\u001b[1;33m)\u001b[0m\u001b[1;33m\u001b[0m\u001b[1;33m\u001b[0m\u001b[0m\n",
      "\u001b[1;32m~\\anaconda3\\lib\\site-packages\\ipykernel\\kernelbase.py\u001b[0m in \u001b[0;36mraw_input\u001b[1;34m(self, prompt)\u001b[0m\n\u001b[0;32m   1175\u001b[0m                 \u001b[1;34m\"raw_input was called, but this frontend does not support input requests.\"\u001b[0m\u001b[1;33m\u001b[0m\u001b[1;33m\u001b[0m\u001b[0m\n\u001b[0;32m   1176\u001b[0m             )\n\u001b[1;32m-> 1177\u001b[1;33m         return self._input_request(\n\u001b[0m\u001b[0;32m   1178\u001b[0m             \u001b[0mstr\u001b[0m\u001b[1;33m(\u001b[0m\u001b[0mprompt\u001b[0m\u001b[1;33m)\u001b[0m\u001b[1;33m,\u001b[0m\u001b[1;33m\u001b[0m\u001b[1;33m\u001b[0m\u001b[0m\n\u001b[0;32m   1179\u001b[0m             \u001b[0mself\u001b[0m\u001b[1;33m.\u001b[0m\u001b[0m_parent_ident\u001b[0m\u001b[1;33m[\u001b[0m\u001b[1;34m\"shell\"\u001b[0m\u001b[1;33m]\u001b[0m\u001b[1;33m,\u001b[0m\u001b[1;33m\u001b[0m\u001b[1;33m\u001b[0m\u001b[0m\n",
      "\u001b[1;32m~\\anaconda3\\lib\\site-packages\\ipykernel\\kernelbase.py\u001b[0m in \u001b[0;36m_input_request\u001b[1;34m(self, prompt, ident, parent, password)\u001b[0m\n\u001b[0;32m   1217\u001b[0m             \u001b[1;32mexcept\u001b[0m \u001b[0mKeyboardInterrupt\u001b[0m\u001b[1;33m:\u001b[0m\u001b[1;33m\u001b[0m\u001b[1;33m\u001b[0m\u001b[0m\n\u001b[0;32m   1218\u001b[0m                 \u001b[1;31m# re-raise KeyboardInterrupt, to truncate traceback\u001b[0m\u001b[1;33m\u001b[0m\u001b[1;33m\u001b[0m\u001b[0m\n\u001b[1;32m-> 1219\u001b[1;33m                 \u001b[1;32mraise\u001b[0m \u001b[0mKeyboardInterrupt\u001b[0m\u001b[1;33m(\u001b[0m\u001b[1;34m\"Interrupted by user\"\u001b[0m\u001b[1;33m)\u001b[0m \u001b[1;32mfrom\u001b[0m \u001b[1;32mNone\u001b[0m\u001b[1;33m\u001b[0m\u001b[1;33m\u001b[0m\u001b[0m\n\u001b[0m\u001b[0;32m   1220\u001b[0m             \u001b[1;32mexcept\u001b[0m \u001b[0mException\u001b[0m\u001b[1;33m:\u001b[0m\u001b[1;33m\u001b[0m\u001b[1;33m\u001b[0m\u001b[0m\n\u001b[0;32m   1221\u001b[0m                 \u001b[0mself\u001b[0m\u001b[1;33m.\u001b[0m\u001b[0mlog\u001b[0m\u001b[1;33m.\u001b[0m\u001b[0mwarning\u001b[0m\u001b[1;33m(\u001b[0m\u001b[1;34m\"Invalid Message:\"\u001b[0m\u001b[1;33m,\u001b[0m \u001b[0mexc_info\u001b[0m\u001b[1;33m=\u001b[0m\u001b[1;32mTrue\u001b[0m\u001b[1;33m)\u001b[0m\u001b[1;33m\u001b[0m\u001b[1;33m\u001b[0m\u001b[0m\n",
      "\u001b[1;31mKeyboardInterrupt\u001b[0m: Interrupted by user"
     ]
    }
   ],
   "source": [
    "MIN=1\n",
    "MAX=6\n",
    "keep=input(\"enter y to continue:\")\n",
    "while keep=='y' or keep=='Y':\n",
    "    print(\"Rolling the dice . . .\")\n",
    "    print(random.randint(MIN,MAX))\n",
    "    print(random.randint(MIN,MAX))\n",
    "    keep=input(\"enter to continue:\")"
   ]
  },
  {
   "cell_type": "code",
   "execution_count": null,
   "id": "05a8032c",
   "metadata": {},
   "outputs": [],
   "source": []
  },
  {
   "cell_type": "code",
   "execution_count": null,
   "id": "37a7e052",
   "metadata": {},
   "outputs": [],
   "source": []
  },
  {
   "cell_type": "code",
   "execution_count": null,
   "id": "de1d319c",
   "metadata": {},
   "outputs": [],
   "source": []
  },
  {
   "cell_type": "code",
   "execution_count": null,
   "id": "6a45268d",
   "metadata": {},
   "outputs": [],
   "source": [
    "#for floating\n",
    "\n",
    "n=random.random()\n",
    "print(n)\n",
    "print(\"\\n\",random.uniform(1,10))\n",
    "print(\"\\n\",random.uniform(1.0,11.1))"
   ]
  },
  {
   "cell_type": "markdown",
   "id": "90e0cd55",
   "metadata": {},
   "source": [
    "# Random Number Seeds\n",
    "The numbers that are generated by the functions in the random module are not truly \n",
    "random. Although we commonly refer to them as random numbers, they are actually\n",
    "pseudorandom numbers that are calculated by a formula. The formula that generates random numbers has to be initialized with a value known as a seed value. The seed value is \n",
    "used in the calculation that returns the next random number in the series. "
   ]
  },
  {
   "cell_type": "code",
   "execution_count": null,
   "id": "0268d8aa",
   "metadata": {},
   "outputs": [],
   "source": [
    "random.seed(10)\n",
    "print(random.randint(1,19))\n",
    "print(random.randint(100,200))\n",
    "print(random.randint(14,39))\n",
    "print(random.randint(4,145))\n"
   ]
  },
  {
   "cell_type": "code",
   "execution_count": 10,
   "id": "6b320c2f",
   "metadata": {},
   "outputs": [
    {
     "name": "stdout",
     "output_type": "stream",
     "text": [
      "2\n",
      "122\n",
      "36\n",
      "49\n"
     ]
    }
   ],
   "source": [
    "import numpy as np\n",
    "np.random.RandomState(42)\n",
    "print(np.random.randint(1,19))\n",
    "print(np.random.randint(100,200))\n",
    "print(np.random.randint(14,39))\n",
    "print(np.random.randint(4,145))"
   ]
  },
  {
   "cell_type": "markdown",
   "id": "20f741a6",
   "metadata": {},
   "source": [
    "# Modul\n",
    "A module is a file that contains Python code. Large programs are easier \n",
    "to debug and maintain when they are divided into modules."
   ]
  },
  {
   "cell_type": "markdown",
   "id": "3922aa8a",
   "metadata": {},
   "source": [
    "which is called modularization, makes the program easier to understand, test, and maintain."
   ]
  },
  {
   "cell_type": "code",
   "execution_count": 12,
   "id": "c8d89bc2",
   "metadata": {},
   "outputs": [
    {
     "name": "stdout",
     "output_type": "stream",
     "text": [
      "0.3483680677639186\n",
      "2.092300707290802\n"
     ]
    }
   ],
   "source": [
    "import math as m\n",
    "def circle(r):\n",
    "    return m.pi*r**2\n",
    "def circumance(r):\n",
    "    return 2*m.pi*r\n",
    "print(circle(.333))\n",
    "print(circumance(.333))"
   ]
  },
  {
   "cell_type": "code",
   "execution_count": null,
   "id": "d2cc31b1",
   "metadata": {},
   "outputs": [],
   "source": []
  }
 ],
 "metadata": {
  "kernelspec": {
   "display_name": "Python 3 (ipykernel)",
   "language": "python",
   "name": "python3"
  },
  "language_info": {
   "codemirror_mode": {
    "name": "ipython",
    "version": 3
   },
   "file_extension": ".py",
   "mimetype": "text/x-python",
   "name": "python",
   "nbconvert_exporter": "python",
   "pygments_lexer": "ipython3",
   "version": "3.9.13"
  }
 },
 "nbformat": 4,
 "nbformat_minor": 5
}
