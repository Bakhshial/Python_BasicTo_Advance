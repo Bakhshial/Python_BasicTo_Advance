{
 "cells": [
  {
   "cell_type": "markdown",
   "id": "55135e3a",
   "metadata": {},
   "source": [
    "# Python:\n",
    "    popular programming language. It was created by Guido van Rossum, and released in 1991.\n",
    "\n",
    "    It is used for:\n",
    "\n",
    "    web development (server-side),\n",
    "    software development,\n",
    "    mathematics,\n",
    "    system scripting.\n",
    "What can do Python:\n",
    "\n",
    "\n",
    "    used on a server to create web applications.\n",
    "    used alongside software to create workflows.\n",
    "    connect to database systems. It can also read and modify files.\n",
    "    used to handle big data and perform complex mathematics.\n",
    "     used for rapid prototyping, or for production-ready software development.\n",
    "     \n",
    "     \n",
    "Why Python?\n",
    "\n",
    "    Python works on different platforms (Windows, Mac, Linux, Raspberry Pi, etc).\n",
    "     simple syntax and write programs with fewer lines than some other programming languages.\n",
    "     runs on an interpreter system, meaning that code can be executed as soon as it is written. This means that prototyping can be very quick.\n",
    "     treated procedural way, an object-oriented way or a functional way.\n",
    "\n"
   ]
  },
  {
   "cell_type": "code",
   "execution_count": 1,
   "id": "8b8b4f17",
   "metadata": {},
   "outputs": [
    {
     "name": "stdout",
     "output_type": "stream",
     "text": [
      "Hello dear Its amazing to learn Python\n",
      "enter the ip: 234.\n",
      "my target ip is:  234.\n"
     ]
    }
   ],
   "source": [
    "print(\"Hello dear Its amazing to learn Python\")\n",
    "print(\"my target ip is: \",input(\"enter the ip: \"))"
   ]
  },
  {
   "cell_type": "markdown",
   "id": "a6fb9b05",
   "metadata": {},
   "source": [
    "# Python Indentation\n",
    "\n",
    "  Indentation refers to the spaces at the beginning of a code line.\n",
    "\n",
    "  Python uses indentation to indicate a block of code.but other pragramming luanguage used for readability"
   ]
  },
  {
   "cell_type": "code",
   "execution_count": 2,
   "id": "1c0ba42c",
   "metadata": {},
   "outputs": [
    {
     "name": "stdout",
     "output_type": "stream",
     "text": [
      "It's true\n"
     ]
    }
   ],
   "source": [
    "if 3<5:\n",
    "    print(\"It's true\")"
   ]
  },
  {
   "cell_type": "markdown",
   "id": "cc3ab3e3",
   "metadata": {},
   "source": [
    "# Variables\n",
    "\n",
    "Variables are containers for storing data values."
   ]
  },
  {
   "cell_type": "code",
   "execution_count": 3,
   "id": "e9c1981b",
   "metadata": {},
   "outputs": [
    {
     "name": "stdout",
     "output_type": "stream",
     "text": [
      "12 <class 'int'>\n",
      "I am Bakshial <class 'str'>\n",
      "2\n",
      "Nice\n",
      "3.5\n",
      "Ali\n",
      "Bakhshial\n",
      "Rehman\n",
      "Ali Bakhshial Rehman\n",
      "enter first name: ali\n",
      "enter last name: hanjano\n",
      "my first name is ali and last name is hanjano\n"
     ]
    }
   ],
   "source": [
    "x=12\n",
    "y=\"I am Bakshial\"\n",
    "print(x,type(x))   # type function is used to see type of variable\n",
    "print(y,type(y))\n",
    "\n",
    "# Assign multiple values to many variable\n",
    "x,y,z=2,\"Nice\",3.5\n",
    "print(x)\n",
    "print(y)\n",
    "print(z)\n",
    "\n",
    "name1,name2,name3=\"Ali\",\"Bakhshial\",\"Rehman\"\n",
    "print(name1)\n",
    "print(name2)\n",
    "print(name3)\n",
    "\n",
    "# you can also write like this\n",
    "\n",
    "print(name1,name2,name3)\n",
    "\n",
    "fname=input(\"enter first name: \")\n",
    "lname=input(\"enter last name: \")\n",
    "print(f\"my first name is {fname} and last name is {lname}\")"
   ]
  },
  {
   "cell_type": "markdown",
   "id": "012c4728",
   "metadata": {},
   "source": [
    "# Global Variables\n",
    "\n",
    "Variables that are created outside of a function  are known as global variables.\n",
    "\n",
    "Global variables can be used by everyone, both inside of functions and outside."
   ]
  },
  {
   "cell_type": "code",
   "execution_count": 4,
   "id": "03fd410e",
   "metadata": {},
   "outputs": [
    {
     "name": "stdout",
     "output_type": "stream",
     "text": [
      "I am Global\n",
      "Oh! I am local variable Because I am in functon, I can not be used outside of function\n",
      "Yes I am Global variable becuase I declare as Global in the function, I can be used outside the Function\n"
     ]
    }
   ],
   "source": [
    "x=\"I am Global\"\n",
    "def fun(): # Function will be defined in comming cells\n",
    "    print(x)\n",
    "fun() # function called\n",
    "\n",
    "\n",
    "\n",
    "def fun():\n",
    "    x=\"Oh! I am local variable Because I am in functon, I can not be used outside of function\"\n",
    "    print(x)\n",
    "fun()\n",
    "\n",
    "\n",
    "\n",
    "def fun1():\n",
    "    global x\n",
    "    x=\"Yes I am Global variable becuase I declare as Global in the function, I can be used outside the Function\"\n",
    "    print(x)\n",
    "fun1()"
   ]
  },
  {
   "cell_type": "markdown",
   "id": "8adb6f75",
   "metadata": {},
   "source": [
    "# Python Data Type"
   ]
  },
  {
   "cell_type": "code",
   "execution_count": 5,
   "id": "53e4478d",
   "metadata": {},
   "outputs": [
    {
     "name": "stdout",
     "output_type": "stream",
     "text": [
      "<class 'int'>\n",
      "<class 'float'>\n",
      "<class 'str'>\n",
      "<class 'complex'>\n",
      "['Hi', 'Hello', 'Nice'] <class 'list'>\n",
      "('Well', 'come', 'dear') <class 'tuple'>\n",
      "{'name': 'Ali', 'age': '21'} <class 'dict'>\n",
      "{'Nice', 'you', 'To', 'meet'} <class 'set'>\n"
     ]
    }
   ],
   "source": [
    "x=10   # interger\n",
    "print(type(x))\n",
    "\n",
    "y=23.23  # Float\n",
    "print(type(y))\n",
    "\n",
    "x=\"Hello\"\n",
    "print(type(x))\n",
    "\n",
    "x=1j\n",
    "print(type(x))\n",
    "\n",
    "List =[\"Hi\",\"Hello\",\"Nice\"]\n",
    "\n",
    "print(List,type(List))\n",
    "\n",
    "Tuple=(\"Well\",\"come\",\"dear\")\n",
    "print(Tuple,type(Tuple))\n",
    "\n",
    "Dict={\"name\":\"Ali\",\"age\":\"21\"}\n",
    "print(Dict,type(Dict))\n",
    "\n",
    "Set={\"Nice\",\"To\",\"meet\",\"you\"}\n",
    "print(Set,type(Set))"
   ]
  },
  {
   "cell_type": "markdown",
   "id": "e0204441",
   "metadata": {},
   "source": [
    "# Type Conversion\n",
    "\n",
    "You can convert from one type to another with the int(), float(), and complex() methods:"
   ]
  },
  {
   "cell_type": "code",
   "execution_count": 6,
   "id": "7f63cd45",
   "metadata": {},
   "outputs": [
    {
     "name": "stdout",
     "output_type": "stream",
     "text": [
      "12.0 <class 'float'>\n",
      "19 <class 'int'>\n",
      "(12+0j) <class 'complex'>\n"
     ]
    }
   ],
   "source": [
    "x=12\n",
    "y=19.78\n",
    "z=2j\n",
    "\n",
    "x=float(x)\n",
    "print(x,type(x))\n",
    "\n",
    "y=int(y)\n",
    "print(y,type(y))\n",
    "\n",
    "a=complex(x)\n",
    "print(a,type(a))"
   ]
  },
  {
   "cell_type": "markdown",
   "id": "413c4c92",
   "metadata": {},
   "source": [
    "# Python Casting"
   ]
  },
  {
   "cell_type": "code",
   "execution_count": 7,
   "id": "a2084864",
   "metadata": {},
   "outputs": [
    {
     "name": "stdout",
     "output_type": "stream",
     "text": [
      "12.2\n",
      "12\n",
      "123 <class 'str'>\n"
     ]
    }
   ],
   "source": [
    "x=12.2\n",
    "x=float(x)\n",
    "print(x)\n",
    "\n",
    "a=12.98\n",
    "a=int(a)\n",
    "print(a)\n",
    "\n",
    "b=123\n",
    "b=str(b)\n",
    "print(b,type(b))"
   ]
  },
  {
   "cell_type": "markdown",
   "id": "204e6882",
   "metadata": {},
   "source": [
    "# If else condition"
   ]
  },
  {
   "cell_type": "code",
   "execution_count": 8,
   "id": "f2c59378",
   "metadata": {},
   "outputs": [
    {
     "name": "stdout",
     "output_type": "stream",
     "text": [
      "a is less than the b\n",
      "A\n",
      "A is less than B\n",
      "equal\n"
     ]
    }
   ],
   "source": [
    "a=12\n",
    "b=39\n",
    "if a>b:\n",
    "    print(\"a is greater than b\")\n",
    "elif a==b:\n",
    "    print(\"a is equal to b\")\n",
    "else:\n",
    "    print(\"a is less than the b\")\n",
    "    \n",
    "\n",
    "if a<=b:print(\"A\")\n",
    "    \n",
    "print(\"A is less than B\") if a<b else print(\"A is greater than B\") \n",
    "a=10\n",
    "b=10\n",
    "print(\"A\") if a<b else print(\"equal\") if a==b else print(\"B\")"
   ]
  },
  {
   "cell_type": "markdown",
   "id": "f025c824",
   "metadata": {},
   "source": [
    "# Loop\n",
    "# While loop"
   ]
  },
  {
   "cell_type": "code",
   "execution_count": 9,
   "id": "f08015b9",
   "metadata": {},
   "outputs": [
    {
     "name": "stdout",
     "output_type": "stream",
     "text": [
      "0\n",
      "1\n",
      "2\n",
      "3\n",
      "4\n",
      "5\n",
      "6\n",
      "7\n",
      "8\n",
      "9\n",
      "Hello\n",
      "1\n",
      "2\n",
      "3\n",
      "4\n",
      "5\n",
      "6\n",
      "7\n",
      "8\n",
      "9\n",
      "10\n",
      "1\n",
      "2\n",
      "4\n",
      "5\n",
      "6\n"
     ]
    }
   ],
   "source": [
    "i=0\n",
    "while i<10:\n",
    "    print(i)\n",
    "    i+=1\n",
    "print(\"Hello\")\n",
    "a=1\n",
    "while a<=11:\n",
    "    print(a)\n",
    "    if a==10:\n",
    "        break\n",
    "    a=a+1\n",
    "    \n",
    "i = 0\n",
    "while i < 6:\n",
    "  i += 1\n",
    "  if i == 3:\n",
    "    continue\n",
    "  print(i)"
   ]
  },
  {
   "cell_type": "markdown",
   "id": "f10214bf",
   "metadata": {},
   "source": [
    "# For Loop"
   ]
  },
  {
   "cell_type": "code",
   "execution_count": 10,
   "id": "c234f487",
   "metadata": {
    "scrolled": true
   },
   "outputs": [
    {
     "name": "stdout",
     "output_type": "stream",
     "text": [
      "1\n",
      "2\n",
      "3\n",
      "4\n",
      "5\n",
      "----------------\n",
      "1\n",
      "2\n",
      "3\n",
      "4\n",
      "5\n",
      "++++++ else ++++++\n",
      "f\n",
      "j\n",
      "s\n",
      "a\n",
      "f\n",
      "loop is finished\n",
      "-----continue statement----\n",
      "1\n",
      "3\n",
      "5\n",
      "7\n",
      "9\n",
      "11\n",
      "13\n",
      "15\n",
      "17\n",
      "19\n",
      "31\n",
      "33\n",
      "35\n",
      "37\n",
      "39\n",
      "loop is finished\n",
      "-----break----\n",
      "apple\n",
      "banana\n",
      "Orange\n",
      "apple\n",
      "apple 120\n",
      "apple 300\n",
      "apple 30\n",
      "apple 120\n",
      "apple 180\n",
      "apple 20\n",
      "apple 30\n",
      "banana 120\n",
      "banana 300\n",
      "banana 30\n",
      "banana 120\n",
      "banana 180\n",
      "banana 20\n",
      "banana 30\n",
      "Orange 120\n",
      "Orange 300\n",
      "Orange 30\n",
      "Orange 120\n",
      "Orange 180\n",
      "Orange 20\n",
      "Orange 30\n",
      "apple 120\n",
      "apple 300\n",
      "apple 30\n",
      "apple 120\n",
      "apple 180\n",
      "apple 20\n",
      "apple 30\n",
      "Mangoes 120\n",
      "Mangoes 300\n",
      "Mangoes 30\n",
      "Mangoes 120\n",
      "Mangoes 180\n",
      "Mangoes 20\n",
      "Mangoes 30\n",
      "cherry 120\n",
      "cherry 300\n",
      "cherry 30\n",
      "cherry 120\n",
      "cherry 180\n",
      "cherry 20\n",
      "cherry 30\n",
      "Kiwi 120\n",
      "Kiwi 300\n",
      "Kiwi 30\n",
      "Kiwi 120\n",
      "Kiwi 180\n",
      "Kiwi 20\n",
      "Kiwi 30\n"
     ]
    }
   ],
   "source": [
    "x=[1,2,3,4,5]\n",
    "for i in x:\n",
    "    print(i)\n",
    "\n",
    "print(\"----------------\")\n",
    "for i in [1,2,3,4,5,]:\n",
    "    print(i)\n",
    "    \n",
    "print(\"++++++ else ++++++\")\n",
    "for i in \"fjsaf\":\n",
    "    print(i)\n",
    "else:\n",
    "        print(\"loop is finished\")\n",
    "    \n",
    "print(\"-----continue statement----\")\n",
    "for i in range(1,40,2):\n",
    "    if i>=20 and i<=30:\n",
    "        continue\n",
    "    print(i)\n",
    "else:\n",
    "    print(\"loop is finished\")   \n",
    "\n",
    "    \n",
    "list1=[\"apple\",\"banana\",\"Orange\",\"apple\",\"Mangoes\",\"cherry\",\"Kiwi\"]\n",
    "print(\"-----break----\")\n",
    "for x in list1:\n",
    "    if x==\"Mangoes\":\n",
    "        break\n",
    "    print(x)\n",
    "else:\n",
    "    print(\"loop is finished\")\n",
    "\n",
    "\n",
    "list1=[\"apple\",\"banana\",\"Orange\",\"apple\",\"Mangoes\",\"cherry\",\"Kiwi\"]\n",
    "list2=[\"120\",\"300\",\"30\",\"120\",\"180\",\"20\",\"30\"]\n",
    "\n",
    "for i in list1:\n",
    "    for j in list2:\n",
    "        print(i,j)\n",
    "      "
   ]
  },
  {
   "cell_type": "markdown",
   "id": "e4f39ab8",
   "metadata": {},
   "source": [
    "# # String Data Type"
   ]
  },
  {
   "cell_type": "code",
   "execution_count": 11,
   "id": "9c1da0d3",
   "metadata": {},
   "outputs": [
    {
     "name": "stdout",
     "output_type": "stream",
     "text": [
      "Hi every one , You are the leget of\n",
      "this decade and you are nice people of\n",
      "you life you life is beautiful than other \n",
      "for you\n",
      "\n"
     ]
    }
   ],
   "source": [
    "# Multiline Strings\n",
    "# You can assign a multiline string to a variable by using three quotes:\n",
    "\n",
    "x=\"\"\"Hi every one , You are the leget of\n",
    "this decade and you are nice people of\n",
    "you life you life is beautiful than other \n",
    "for you\n",
    "\"\"\"\n",
    "print(x)\n",
    "\n"
   ]
  },
  {
   "cell_type": "code",
   "execution_count": 12,
   "id": "1a9b25c7",
   "metadata": {},
   "outputs": [
    {
     "name": "stdout",
     "output_type": "stream",
     "text": [
      "B\n",
      "a\n",
      "B\n",
      "a\n",
      "k\n",
      "h\n",
      "s\n",
      "h\n",
      "i\n",
      "a\n",
      "l\n",
      "Lenth of you sring is: 9\n"
     ]
    }
   ],
   "source": [
    "# Like many other popular programming languages, strings in Python are arrays of bytes representing unicode characters.\n",
    "\n",
    "# However, Python does not have a character data type, a single character is simply a string with a length of 1.\n",
    "\n",
    "# Square brackets can be used to access elements of the string.\n",
    "\n",
    "name =\"Bakhshial\"\n",
    "print(name[0])\n",
    "print(name[1])\n",
    "\n",
    "for i in name:\n",
    "    print(i)\n",
    "\n",
    "print(\"Lenth of you sring is:\",len(name))"
   ]
  },
  {
   "cell_type": "code",
   "execution_count": 13,
   "id": "14ce7330",
   "metadata": {},
   "outputs": [
    {
     "name": "stdout",
     "output_type": "stream",
     "text": [
      "True\n",
      "Yes lif is free\n",
      "True\n",
      "Life is Not Nice\n"
     ]
    }
   ],
   "source": [
    "# Check String\n",
    "\n",
    "# To check if a certain phrase or character is present in a string, we can use the keyword in.\n",
    "\n",
    "txt = \"The best things in life are free!\"\n",
    "print(\"free\" in txt)\n",
    "\n",
    "# use if \n",
    "\n",
    "if \"free\" in txt:\n",
    "    print(\"Yes life is free\")\n",
    "    \n",
    "#Check if NOT\n",
    "print(\"Nice\" not in txt)\n",
    "\n",
    "if \"Nice\" not in txt:\n",
    "    print(\"Life is Not Nice\")"
   ]
  },
  {
   "cell_type": "markdown",
   "id": "31de0335",
   "metadata": {},
   "source": [
    "# Slicing\n",
    "\n",
    "You can return a range of characters by using the slice syntax.\n",
    "\n",
    "Specify the start index and the end index, separated by a colon, to return a part of the string."
   ]
  },
  {
   "cell_type": "code",
   "execution_count": 60,
   "id": "a8b15157",
   "metadata": {},
   "outputs": [
    {
     "name": "stdout",
     "output_type": "stream",
     "text": [
      "khshial,Hajan\n",
      "Bakhs\n",
      "shial,Hajano\n"
     ]
    }
   ],
   "source": [
    "#Get the characters from position 2 to position 5 (not included):\n",
    "x=\"Bakhshial,Hajano\"\n",
    "print(x[2:15])\n",
    "\n",
    "#get from starting to 5\n",
    "print(x[:5])\n",
    "\n",
    "# get from 2 to ending\n",
    "\n",
    "print(x[4:])"
   ]
  },
  {
   "cell_type": "code",
   "execution_count": 63,
   "id": "de4772d9",
   "metadata": {},
   "outputs": [
    {
     "name": "stdout",
     "output_type": "stream",
     "text": [
      "aja\n",
      "Bakhshial,Hajan\n"
     ]
    }
   ],
   "source": [
    "print(x[-5:-2])\n",
    "print(x[-1:])"
   ]
  },
  {
   "cell_type": "code",
   "execution_count": 16,
   "id": "e571cd26",
   "metadata": {},
   "outputs": [
    {
     "name": "stdout",
     "output_type": "stream",
     "text": [
      "BAKHSHIAL,HAJANO\n",
      "bakhshial,hajano\n",
      "    Bakhshial , Hajano  \n",
      "Bakhshial , Hajano\n",
      "    Hakhshial , Hajano  \n"
     ]
    }
   ],
   "source": [
    "# Upper case\n",
    "print(x.upper())\n",
    "\n",
    "#Lower case\n",
    "\n",
    "print(x.lower())\n",
    "\n",
    "# remove space\n",
    "\n",
    "name=\"    Bakhshial , Hajano  \"\n",
    "\n",
    "print(name)\n",
    "print(name.strip())\n",
    "\n",
    "# replace B with H\n",
    "print(name.replace(\"B\",\"H\"))"
   ]
  },
  {
   "cell_type": "code",
   "execution_count": 17,
   "id": "59332647",
   "metadata": {},
   "outputs": [
    {
     "name": "stdout",
     "output_type": "stream",
     "text": [
      "['Hello', 'World!']\n"
     ]
    }
   ],
   "source": [
    "# split\n",
    "a=\"Hello,World!\"\n",
    "print(a.split(\",\"))"
   ]
  },
  {
   "cell_type": "markdown",
   "id": "869bc2bc",
   "metadata": {},
   "source": [
    "# String Concatenation\n",
    "\n",
    "To concatenate, or combine, two strings you can use the + operator."
   ]
  },
  {
   "cell_type": "code",
   "execution_count": 18,
   "id": "cd69390c",
   "metadata": {},
   "outputs": [
    {
     "name": "stdout",
     "output_type": "stream",
     "text": [
      "BakhshialHajano\n",
      "Bakhshial Hajano\n"
     ]
    }
   ],
   "source": [
    "x=\"Bakhshial\"\n",
    "y=\"Hajano\"\n",
    "\n",
    "print(x+y)\n",
    "\n",
    "print(x+\" \"+y)"
   ]
  },
  {
   "cell_type": "markdown",
   "id": "1c37f901",
   "metadata": {},
   "source": [
    "# String Format\n",
    "\n",
    "As we learned in the Python Variables chapter, we cannot combine strings and numbers.\n",
    "But we can combine strings and numbers by using the format() method!"
   ]
  },
  {
   "cell_type": "code",
   "execution_count": 64,
   "id": "cd15d275",
   "metadata": {},
   "outputs": [
    {
     "name": "stdout",
     "output_type": "stream",
     "text": [
      "My name is Bakhshial, I am 22 year old\n",
      "My name is Bakhshial, I am 22 year old\n"
     ]
    }
   ],
   "source": [
    "age=22\n",
    "txt=\"My name is Bakhshial, I am {} year old\"\n",
    "print(txt.format(age))\n",
    "print(f\"My name is Bakhshial, I am {age} year old\")"
   ]
  },
  {
   "cell_type": "code",
   "execution_count": 66,
   "id": "74846f9e",
   "metadata": {},
   "outputs": [
    {
     "name": "stdout",
     "output_type": "stream",
     "text": [
      "I want to pay 49.95 dollars for 3 pieces of item 567.\n",
      "I want to pay 49.95 dollars for 3 pieces of item 567.\n"
     ]
    }
   ],
   "source": [
    "quantity = 3\n",
    "itemno = 567\n",
    "price = 49.95\n",
    "myorder = f\"I want to pay {price} dollars for {quantity} pieces of item {itemno}.\"\n",
    "print(myorder)\n",
    "print(myorder.format(quantity, itemno, price))"
   ]
  },
  {
   "cell_type": "code",
   "execution_count": 21,
   "id": "e0cf9b2a",
   "metadata": {},
   "outputs": [
    {
     "name": "stdout",
     "output_type": "stream",
     "text": [
      "Hey\"Bakhshial\"How are you\n"
     ]
    }
   ],
   "source": [
    "#The escape character allows you to use double quotes when you normally would not be allowed\n",
    "print(\"Hey\\\"Bakhshial\\\"How are you\")"
   ]
  },
  {
   "cell_type": "markdown",
   "id": "4a4ddb0c",
   "metadata": {},
   "source": [
    "# Python - String Methods\n",
    "https://www.w3schools.com/python/python_strings_methods.asp"
   ]
  },
  {
   "cell_type": "markdown",
   "id": "5532d3c6",
   "metadata": {},
   "source": [
    "# Operators\n",
    "\n",
    "    Arithmetic operators\n",
    "    Assignment operators\n",
    "    Comparison operators\n",
    "    Logical operators\n",
    "    Identity operators\n",
    "    Membership operators\n",
    "    Bitwise operators\n"
   ]
  },
  {
   "cell_type": "markdown",
   "id": "bf8727e1",
   "metadata": {},
   "source": [
    "# Arithmatics operator"
   ]
  },
  {
   "cell_type": "code",
   "execution_count": 22,
   "id": "5402c347",
   "metadata": {},
   "outputs": [
    {
     "name": "stdout",
     "output_type": "stream",
     "text": [
      "Addition of two number 16\n",
      "Substraction of two number 8\n",
      "multiplication of two number 48\n",
      "Division of two number 3.0\n",
      "moduls of two number 0\n",
      "power of two number 20736\n",
      "flour of two number 3\n"
     ]
    }
   ],
   "source": [
    "a=12\n",
    "b=4\n",
    "\n",
    "print(\"Addition of two number\",a+b)\n",
    "print(\"Substraction of two number\",a-b)\n",
    "print(\"multiplication of two number\",a*b)\n",
    "print(\"Division of two number\",a/b)\n",
    "print(\"moduls of two number\",a%b)\n",
    "print(\"power of two number\",a**b)\n",
    "print(\"flour of two number\",a//b)"
   ]
  },
  {
   "cell_type": "markdown",
   "id": "10275e98",
   "metadata": {},
   "source": [
    "# Assignment Operators"
   ]
  },
  {
   "cell_type": "code",
   "execution_count": 23,
   "id": "8397bd32",
   "metadata": {},
   "outputs": [
    {
     "name": "stdout",
     "output_type": "stream",
     "text": [
      "17\n",
      "5\n",
      "60\n",
      "5.0\n",
      "244140625.0\n",
      "1.0\n"
     ]
    }
   ],
   "source": [
    "a=12\n",
    "b=5\n",
    "\n",
    "b+=a\n",
    "print(b)\n",
    "\n",
    "b-=a\n",
    "print(b)\n",
    "\n",
    "b*=a\n",
    "print(b)\n",
    "\n",
    "b/=a\n",
    "print(b)\n",
    "\n",
    "b**=a\n",
    "print(b)\n",
    "\n",
    "b%=a\n",
    "print(b)\n"
   ]
  },
  {
   "cell_type": "markdown",
   "id": "9626209c",
   "metadata": {},
   "source": [
    "# Comparison Operator"
   ]
  },
  {
   "cell_type": "code",
   "execution_count": 24,
   "id": "2c02d95b",
   "metadata": {},
   "outputs": [
    {
     "name": "stdout",
     "output_type": "stream",
     "text": [
      "a is Equal to b :          False\n",
      "a is greater than b:       False\n",
      "a is less than b:          True\n",
      "a less and Equal to b:     True\n",
      "a  graeter and Equal to b: False\n",
      "a is not equal to b:       True\n"
     ]
    }
   ],
   "source": [
    "a=5\n",
    "b=6\n",
    "print(\"a is Equal to b :         \",a==b)\n",
    "\n",
    "print(\"a is greater than b:      \",a>b)\n",
    "\n",
    "print(\"a is less than b:         \",a<b)\n",
    "\n",
    "\n",
    "print(\"a less and Equal to b:    \",a<=b)\n",
    "\n",
    "print(\"a  graeter and Equal to b:\",a>=b)\n",
    "\n",
    "print(\"a is not equal to b:      \",a!=b)\n",
    "\n",
    "\n",
    "\n"
   ]
  },
  {
   "cell_type": "markdown",
   "id": "a77ad4a4",
   "metadata": {},
   "source": [
    "# Other Operators\n",
    "https://www.w3schools.com/python/python_operators.asp"
   ]
  },
  {
   "cell_type": "code",
   "execution_count": null,
   "id": "4210bfbe",
   "metadata": {},
   "outputs": [],
   "source": []
  },
  {
   "cell_type": "markdown",
   "id": "55514a29",
   "metadata": {},
   "source": [
    "# Python Function"
   ]
  },
  {
   "cell_type": "code",
   "execution_count": 25,
   "id": "59069597",
   "metadata": {},
   "outputs": [
    {
     "name": "stdout",
     "output_type": "stream",
     "text": [
      "Hi Every one\n",
      "\n",
      "-------Funtion with Arguement-------\n",
      "\n",
      "name is:  Ali\n",
      "email is:  hshdf.com\n",
      "phone is:  239394\n",
      "name is:  Bakhshial\n",
      "email is:  bakhshial.com\n",
      "phone is:  0594847247772\n",
      "\n",
      "#---------abitrary arguement------#\n",
      "\n",
      "('Bakhshial', 21, 234, 'apple')\n",
      "\n",
      "---------------------\n",
      "\n",
      "The youngest child is Linus\n",
      "\n",
      "-----defualt arguemnent-----\n",
      "\n",
      "ali\n",
      "Hajano\n",
      "Bakhshial\n",
      "\n",
      "------return type-----\n",
      "\n",
      "9\n",
      "\n",
      "-------Recuirrsion------\n",
      "\n",
      "1\n",
      "3\n",
      "6\n",
      "10\n",
      "15\n",
      "21\n",
      "28\n",
      "36\n",
      "45\n"
     ]
    },
    {
     "data": {
      "text/plain": [
       "45"
      ]
     },
     "execution_count": 25,
     "metadata": {},
     "output_type": "execute_result"
    }
   ],
   "source": [
    "def fun():\n",
    "    print(\"Hi Every one\")\n",
    "fun()\n",
    "\n",
    "\n",
    "print(\"\\n-------Funtion with Arguement-------\\n\")\n",
    "def fun1(name,email,phone):\n",
    "    print(\"name is: \",name)\n",
    "    print(\"email is: \",email)\n",
    "    print(\"phone is: \",phone)\n",
    "\n",
    "fun1(\"Ali\",\"hshdf.com\",\"239394\")\n",
    "fun1(\"Bakhshial\",\"bakhshial.com\",\"0594847247772\")\n",
    "\n",
    "print(\"\\n#---------abitrary arguement------#\\n\")\n",
    "def fun2(*x):\n",
    "    print(x)\n",
    "\n",
    "fun2(\"Bakhshial\",21,234,\"apple\")\n",
    "\n",
    "print(\"\\n---------------------\\n\")\n",
    "\n",
    "def my_function(child3, child2, child1):\n",
    "  print(\"The youngest child is \" + child3)\n",
    "\n",
    "my_function(child1 = \"Emil\", child2 = \"Tobias\", child3 = \"Linus\") \n",
    "\n",
    "print(\"\\n-----defualt arguemnent-----\\n\")\n",
    "def fun3(name=\"Bakhshial\"):\n",
    "    print(name)\n",
    "\n",
    "fun3(\"ali\")\n",
    "fun3(\"Hajano\")\n",
    "fun3()\n",
    "\n",
    "\n",
    "print(\"\\n------return type-----\\n\")\n",
    "\n",
    "def fun4(x,y):\n",
    "    a=x**y\n",
    "    return a\n",
    "\n",
    "print(fun4(3,2))\n",
    "\n",
    "print(\"\\n-------Recuirrsion------\\n\")\n",
    "def fun5(k):\n",
    "    if k>0:\n",
    "        a=k+fun5(k-1)\n",
    "        print(a)\n",
    "    else:\n",
    "        a=0\n",
    "    return a\n",
    "\n",
    "fun5(9)"
   ]
  },
  {
   "cell_type": "markdown",
   "id": "89e45f4d",
   "metadata": {},
   "source": [
    "# Python Collections (Arrays)\n",
    "\n",
    "There are four collection data types in the Python programming language:\n",
    "\n",
    "    List is a collection which is ordered and changeable. Allows duplicate members.\n",
    "    Tuple is a collection which is ordered and unchangeable. Allows duplicate members.\n",
    "    Set is a collection which is unordered, unchangeable*, and unindexed. No duplicate members.\n",
    "    Dictionary is a collection which is ordered** and changeable. No duplicate members."
   ]
  },
  {
   "cell_type": "markdown",
   "id": "f8f52e3f",
   "metadata": {},
   "source": [
    "# Python List\n",
    "\n",
    "Lists are used to store multiple items in a single variable.\n",
    "\n",
    "Lists are one of 4 built-in data types in Python used to store collections of data, the other 3 are Tuple, Set, and Dictionary, all with different qualities and usage.\n",
    "\n",
    "Lists are created using square brackets:"
   ]
  },
  {
   "cell_type": "code",
   "execution_count": 26,
   "id": "8d26fb59",
   "metadata": {},
   "outputs": [
    {
     "name": "stdout",
     "output_type": "stream",
     "text": [
      "['Hi', 'Hey', 'Hello']\n",
      "['apple', 'banana', 'Orange', 'apple', 'Mangoes']\n",
      "3 5\n",
      "<class 'list'>\n"
     ]
    }
   ],
   "source": [
    "List=[\"Hi\",\"Hey\",\"Hello\"]\n",
    "\n",
    "print(List)\n",
    "\n",
    "# Lists allow duplicate values\n",
    "l=[\"apple\",\"banana\",\"Orange\",\"apple\",\"Mangoes\"]\n",
    "print(l)\n",
    "print(len(List),len(l))\n",
    "print(type(l))"
   ]
  },
  {
   "cell_type": "code",
   "execution_count": 27,
   "id": "b77ab01d",
   "metadata": {},
   "outputs": [
    {
     "name": "stdout",
     "output_type": "stream",
     "text": [
      "['Bakhshial', 12, 3.4, True, 2j]\n",
      "<class 'list'>\n"
     ]
    }
   ],
   "source": [
    "l=[\"Bakhshial\",12,3.4,True,2j]\n",
    "print(l)\n",
    "\n",
    "print(type(l))"
   ]
  },
  {
   "cell_type": "markdown",
   "id": "e1fde13c",
   "metadata": {},
   "source": [
    "# Access Items"
   ]
  },
  {
   "cell_type": "code",
   "execution_count": 28,
   "id": "bc952f8c",
   "metadata": {},
   "outputs": [
    {
     "name": "stdout",
     "output_type": "stream",
     "text": [
      "52 19\n"
     ]
    }
   ],
   "source": [
    "l=[19,52,73,84,85,6,7,8]\n",
    "print(l[1],l[0])"
   ]
  },
  {
   "cell_type": "code",
   "execution_count": 29,
   "id": "e0b23b68",
   "metadata": {},
   "outputs": [
    {
     "name": "stdout",
     "output_type": "stream",
     "text": [
      "6 4\n",
      "[4, 5, 6]\n"
     ]
    }
   ],
   "source": [
    "# Negative indexing means start from the end\n",
    "\n",
    "# -1 refers to the last item, -2 refers to the second last item etc.\n",
    "list2=[1,2,3,4,5,6]\n",
    "print(list2[-1],list2[-3])\n",
    "print(list2[-3:])"
   ]
  },
  {
   "cell_type": "code",
   "execution_count": 30,
   "id": "edb27cd0",
   "metadata": {
    "scrolled": true
   },
   "outputs": [
    {
     "name": "stdout",
     "output_type": "stream",
     "text": [
      "['Orange', 'apple', 'Mangoes']\n",
      "['apple', 'banana', 'Orange', 'apple', 'Mangoes', 'cherry']\n",
      "['apple', 'Mangoes', 'cherry', 'Kiwi']\n",
      "['apple', 'Mangoes', 'cherry']\n"
     ]
    }
   ],
   "source": [
    "l=[\"apple\",\"banana\",\"Orange\",\"apple\",\"Mangoes\",\"cherry\",\"Kiwi\"]\n",
    "print(l[2:5])\n",
    "print(l[:6])\n",
    "print(l[3:])\n",
    "print(l[-4:-1])"
   ]
  },
  {
   "cell_type": "code",
   "execution_count": 68,
   "id": "2261f214",
   "metadata": {},
   "outputs": [
    {
     "name": "stdout",
     "output_type": "stream",
     "text": [
      "Yes, 'apple' is in the fruits list\n",
      "False\n"
     ]
    }
   ],
   "source": [
    "# Check if \"apple\" is present in the list:\n",
    "list2 = [\"apple\", \"banana\", \"cherry\"]\n",
    "if \"apple\" in list2:\n",
    "    print(\"Yes, 'apple' is in the fruits list\") \n",
    "print(\"apple\" in \"list2\")"
   ]
  },
  {
   "cell_type": "markdown",
   "id": "e85b9cdc",
   "metadata": {},
   "source": [
    "# Change List Items"
   ]
  },
  {
   "cell_type": "code",
   "execution_count": 32,
   "id": "c5d88788",
   "metadata": {},
   "outputs": [
    {
     "name": "stdout",
     "output_type": "stream",
     "text": [
      "[12, 34, 5, 67, 89, 5, 4, 6]\n",
      "[12, 13, 5, 67, 89, 5, 4, 6]\n"
     ]
    }
   ],
   "source": [
    "list1=[12,34,5,67,89,5,4,6]\n",
    "print(list1)\n",
    "\n",
    "list1[1]=13\n",
    "print(list1)"
   ]
  },
  {
   "cell_type": "code",
   "execution_count": 33,
   "id": "043d9d69",
   "metadata": {},
   "outputs": [
    {
     "name": "stdout",
     "output_type": "stream",
     "text": [
      "[12, 11, 10, 9, 89, 5, 4, 6]\n"
     ]
    }
   ],
   "source": [
    "list1[1:4]=[11,10,9]\n",
    "print(list1)"
   ]
  },
  {
   "cell_type": "code",
   "execution_count": 34,
   "id": "df340750",
   "metadata": {},
   "outputs": [
    {
     "name": "stdout",
     "output_type": "stream",
     "text": [
      "[12, 7, 89, 5, 4, 6]\n"
     ]
    }
   ],
   "source": [
    "list1[1:4]=[7]\n",
    "print(list1)\n",
    "\n"
   ]
  },
  {
   "cell_type": "code",
   "execution_count": 35,
   "id": "c1517284",
   "metadata": {},
   "outputs": [
    {
     "name": "stdout",
     "output_type": "stream",
     "text": [
      "['apple', 'banana', 'Mangoe', 'cherry']\n"
     ]
    }
   ],
   "source": [
    "list2 = [\"apple\", \"banana\", \"cherry\"]\n",
    "list2.insert(2,\"Mangoe\")\n",
    "print(list2)"
   ]
  },
  {
   "cell_type": "markdown",
   "id": "3ff04e59",
   "metadata": {},
   "source": [
    "# Add List Items"
   ]
  },
  {
   "cell_type": "code",
   "execution_count": 36,
   "id": "5d938e75",
   "metadata": {},
   "outputs": [
    {
     "name": "stdout",
     "output_type": "stream",
     "text": [
      "['apple', 'banana', 'Orange', 'apple', 'Mangoes', 'cherry', 'Kiwi', 'Mangoe']\n",
      "['apple', 'banana', 'Mangoes', 'Orange', 'apple', 'Mangoes', 'cherry', 'Kiwi', 'Mangoe']\n",
      "['apple', 'banana', 'Orange', 'apple', 'Mangoes', 'cherry', 'Kiwi', '120', '200', '100', '150']\n"
     ]
    }
   ],
   "source": [
    "# Append Items\n",
    "# To add an item to the end of the list, use the append() method:\n",
    "\n",
    "list1=[\"apple\",\"banana\",\"Orange\",\"apple\",\"Mangoes\",\"cherry\",\"Kiwi\"]\n",
    "\n",
    "list1.append(\"Mangoe\")\n",
    "print(list1)\n",
    "\n",
    "# Use insert method\n",
    "\n",
    "list1.insert(2,\"Mangoes\")\n",
    "print(list1)\n",
    "\n",
    "# Extend List\n",
    "# To append elements from another list to the current list, use the extend() method.\n",
    "\n",
    "list1=[\"apple\",\"banana\",\"Orange\",\"apple\",\"Mangoes\",\"cherry\",\"Kiwi\"]\n",
    "\n",
    "list3=[\"120\",\"200\",\"100\",\"150\"]\n",
    "\n",
    "list1.extend(list3)\n",
    "print(list1)"
   ]
  },
  {
   "cell_type": "markdown",
   "id": "22fac7ea",
   "metadata": {},
   "source": [
    "# Remove List Items\n"
   ]
  },
  {
   "cell_type": "code",
   "execution_count": 37,
   "id": "d12513e6",
   "metadata": {},
   "outputs": [
    {
     "name": "stdout",
     "output_type": "stream",
     "text": [
      "['apple', 'banana', 'apple', 'Mangoes', 'cherry', 'Kiwi']\n",
      "['apple', 'banana', 'Mangoes', 'cherry', 'Kiwi']\n",
      "['apple', 'banana', 'Mangoes', 'cherry']\n",
      "['banana', 'Mangoes', 'cherry']\n",
      "[]\n"
     ]
    }
   ],
   "source": [
    "list1=[\"apple\",\"banana\",\"Orange\",\"apple\",\"Mangoes\",\"cherry\",\"Kiwi\"]\n",
    "list1.remove(\"Orange\")\n",
    "print(list1)\n",
    "\n",
    "# remove third item\n",
    "list1.pop(2)\n",
    "print(list1)\n",
    "\n",
    "list1.pop() # remove from end\n",
    "print(list1)\n",
    "\n",
    "# del keyword\n",
    "del list1[0]\n",
    "print(list1)\n",
    "\n",
    "del list1 # list1 is deleted\n",
    "\n",
    "list1=[\"apple\",\"banana\",\"Orange\",\"apple\",\"Mangoes\",\"cherry\",\"Kiwi\"]\n",
    "\n",
    "list1.clear()\n",
    "print(list1)"
   ]
  },
  {
   "cell_type": "markdown",
   "id": "af4de72b",
   "metadata": {},
   "source": [
    "# Loop Lists"
   ]
  },
  {
   "cell_type": "code",
   "execution_count": 38,
   "id": "5a3f9e41",
   "metadata": {},
   "outputs": [
    {
     "name": "stdout",
     "output_type": "stream",
     "text": [
      "1\n",
      "2\n",
      "3\n",
      "4\n",
      "5\n",
      "6\n",
      "7\n",
      "\n",
      "Use the range() and len() functions to create a suitable iterable\n",
      "apple\n",
      "banana\n",
      "Orange\n",
      "apple\n",
      "Mangoes\n",
      "cherry\n",
      "Kiwi\n",
      "\n",
      "-----while loop-----\n",
      "apple\n",
      "banana\n",
      "Orange\n",
      "apple\n",
      "Mangoes\n",
      "cherry\n",
      "Kiwi\n",
      "['apple', 'banana', 'Orange', 'apple', 'Mangoes', 'cherry', 'Kiwi']\n"
     ]
    }
   ],
   "source": [
    "List=[1,2,3,4,5,6,7]\n",
    "for i in List:\n",
    "    print(i)\n",
    "    \n",
    "print(\"\\nUse the range() and len() functions to create a suitable iterable\")\n",
    "\n",
    "list1=[\"apple\",\"banana\",\"Orange\",\"apple\",\"Mangoes\",\"cherry\",\"Kiwi\"]\n",
    "\n",
    "for i in range(len(list1)):\n",
    "    print(list1[i])\n",
    "    \n",
    "# Using While loop\n",
    "\n",
    "print(\"\\n-----while loop-----\")\n",
    "\n",
    "i=0\n",
    "while i<len(list1):\n",
    "    print(list1[i])\n",
    "    i=i+1\n",
    "    \n",
    "\n",
    "# Looping Using List Comprehension\n",
    "# List Comprehension offers the shortest syntax for looping through lists:\n",
    "list1=[\"apple\",\"banana\",\"Orange\",\"apple\",\"Mangoes\",\"cherry\",\"Kiwi\"]\n",
    "l=[i for i in list1]\n",
    "print(l)"
   ]
  },
  {
   "cell_type": "markdown",
   "id": "4a574319",
   "metadata": {},
   "source": [
    "# List Comprehension"
   ]
  },
  {
   "cell_type": "code",
   "execution_count": 39,
   "id": "f26fb78b",
   "metadata": {},
   "outputs": [
    {
     "name": "stdout",
     "output_type": "stream",
     "text": [
      "['apple', 'banana', 'mango']\n",
      "['apple', 'banana', 'cherry', 'kiwi', 'mango']\n",
      "['apple', 'orange', 'cherry', 'kiwi', 'mango']\n"
     ]
    }
   ],
   "source": [
    "fruits = [\"apple\", \"banana\", \"cherry\", \"kiwi\", \"mango\"]\n",
    "\n",
    "newlist = [x for x in fruits if \"a\" in x]\n",
    "\n",
    "print(newlist) \n",
    "\n",
    "newlist = [x for x in fruits] \n",
    "print(newlist)\n",
    "\n",
    "newlist = [x if x != \"banana\" else \"orange\" for x in fruits] \n",
    "print(newlist)"
   ]
  },
  {
   "cell_type": "code",
   "execution_count": 70,
   "id": "72dfa94b",
   "metadata": {},
   "outputs": [
    {
     "name": "stdout",
     "output_type": "stream",
     "text": [
      "[0, 1, 2, 3, 4, 5, 6, 7, 8, 9, 10]\n",
      "[0, 1, 2, 3, 4]\n"
     ]
    }
   ],
   "source": [
    "new1=[x for x in range(11)]\n",
    "print(new1)\n",
    "\n",
    "new2=[i for i in range(10) if i<5]\n",
    "print(new2)"
   ]
  },
  {
   "cell_type": "markdown",
   "id": "1a60cbe4",
   "metadata": {},
   "source": [
    "# Sort List"
   ]
  },
  {
   "cell_type": "code",
   "execution_count": 41,
   "id": "10007522",
   "metadata": {},
   "outputs": [
    {
     "name": "stdout",
     "output_type": "stream",
     "text": [
      "[1, 2, 2, 2, 4, 4, 4, 5, 5, 5, 6, 8, 8, 9, 32, 64, 67, 67, 342, 543]\n",
      "[543, 342, 67, 67, 64, 32, 9, 8, 8, 6, 5, 5, 5, 4, 4, 4, 2, 2, 2, 1]\n"
     ]
    }
   ],
   "source": [
    "# ascending order\n",
    "list1=[2,1,4,67,2,5,8,543,2,5,8,9,67,5,4,6,4,64,32,342]\n",
    "list1.sort()\n",
    "print(list1)\n",
    "\n",
    "#descending order\n",
    "\n",
    "list1.sort(reverse=True)\n",
    "print(list1)"
   ]
  },
  {
   "cell_type": "markdown",
   "id": "e7f9be10",
   "metadata": {},
   "source": [
    "# Copy List"
   ]
  },
  {
   "cell_type": "code",
   "execution_count": 42,
   "id": "89c6fd9e",
   "metadata": {},
   "outputs": [
    {
     "name": "stdout",
     "output_type": "stream",
     "text": [
      "[9, 3, 4, 8, 7, 2, 1]\n",
      "[9, 3, 4, 8, 7, 2, 1]\n",
      "[9, 3, 4, 8, 7, 2, 1]\n"
     ]
    }
   ],
   "source": [
    "list1=[9,3,4,8,7,2,1]\n",
    "print(list1)\n",
    "list2=list1.copy()\n",
    "print(list2)\n",
    "\n",
    "list3=list(list1)\n",
    "print(list3)"
   ]
  },
  {
   "cell_type": "markdown",
   "id": "46157836",
   "metadata": {},
   "source": [
    "# Join List"
   ]
  },
  {
   "cell_type": "code",
   "execution_count": 43,
   "id": "f2a6e564",
   "metadata": {},
   "outputs": [
    {
     "name": "stdout",
     "output_type": "stream",
     "text": [
      "['q', 'e', 'r', 'w', 1, 2, 3]\n",
      "[1, 2, 3, 'q', 'e', 'r', 'w']\n",
      "['q', 'e', 'r', 'w', 1, 2, 3, 'q', 'e', 'r', 'w']\n"
     ]
    }
   ],
   "source": [
    "l=['q','e','r','w']\n",
    "l2=[1,2,3]\n",
    "print(l+l2)\n",
    "\n",
    "for i in l:\n",
    "    l2.append(i)\n",
    "print(l2)\n",
    "\n",
    "l.extend(l2)\n",
    "print(l)"
   ]
  },
  {
   "cell_type": "markdown",
   "id": "974f8f09",
   "metadata": {},
   "source": [
    "# List Methods\n",
    "https://www.w3schools.com/python/python_lists_methods.asp"
   ]
  },
  {
   "cell_type": "markdown",
   "id": "aea7394f",
   "metadata": {},
   "source": [
    "# Python Lambda"
   ]
  },
  {
   "cell_type": "code",
   "execution_count": 44,
   "id": "407fd121",
   "metadata": {},
   "outputs": [
    {
     "name": "stdout",
     "output_type": "stream",
     "text": [
      "6\n",
      "22\n"
     ]
    }
   ],
   "source": [
    "x=lambda a,b :a*b\n",
    "print(x(2,3))\n",
    "\n",
    "def myfunc(n):\n",
    "  return lambda a : a * n\n",
    "\n",
    "mydoubler = myfunc(2)\n",
    "\n",
    "print(mydoubler(11))"
   ]
  },
  {
   "cell_type": "markdown",
   "id": "d3484edb",
   "metadata": {},
   "source": [
    "# Array "
   ]
  },
  {
   "cell_type": "code",
   "execution_count": 45,
   "id": "f0f0a060",
   "metadata": {},
   "outputs": [
    {
     "data": {
      "text/plain": [
       "list"
      ]
     },
     "execution_count": 45,
     "metadata": {},
     "output_type": "execute_result"
    }
   ],
   "source": [
    "name=[\"Bakhshial\",\"Ali\",\"Rehman\",\"Hajano\"]\n",
    "type(name)"
   ]
  },
  {
   "cell_type": "markdown",
   "id": "cdfd3dc6",
   "metadata": {},
   "source": [
    "# Python Class"
   ]
  },
  {
   "cell_type": "code",
   "execution_count": 46,
   "id": "fba6fe67",
   "metadata": {},
   "outputs": [
    {
     "name": "stdout",
     "output_type": "stream",
     "text": [
      "ali shoots a film\n",
      "ali says how are you\n"
     ]
    }
   ],
   "source": [
    "class human:\n",
    "    def __init__(self,n,o):\n",
    "        self.name=n\n",
    "        self.occupation=o\n",
    "    \n",
    "    def do_work(self):\n",
    "        if self.occupation==\"tennis player\":\n",
    "            print(self.name,\"plays tennis\")\n",
    "        elif self.occupation==\"actor\":\n",
    "            print(self.name,\"shoots a film\")\n",
    "        \n",
    "    def speaks(self):\n",
    "        print(self.name,\"says how are you\")\n",
    "\n",
    "tom=human(\"ali\",\"actor\")\n",
    "tom.do_work()\n",
    "tom.speaks()"
   ]
  },
  {
   "cell_type": "markdown",
   "id": "66ca42da",
   "metadata": {},
   "source": [
    "# inheritance"
   ]
  },
  {
   "cell_type": "code",
   "execution_count": 47,
   "id": "45d970a2",
   "metadata": {},
   "outputs": [
    {
     "name": "stdout",
     "output_type": "stream",
     "text": [
      "I am the car\n",
      "general use: transporation\n",
      "travel with family,go to office\n",
      "I am the motercycle\n",
      "general use: transporation\n",
      "racing , carry wife to mikean\n"
     ]
    },
    {
     "data": {
      "text/plain": [
       "2020"
      ]
     },
     "execution_count": 47,
     "metadata": {},
     "output_type": "execute_result"
    }
   ],
   "source": [
    "class vehicle:\n",
    "    def general_usage(self):\n",
    "        print(\"general use: transporation\")\n",
    "        \n",
    "\n",
    "class Car(vehicle):\n",
    "    def __init__(self):\n",
    "        print(\"I am the car\")\n",
    "        self.wheel=4\n",
    "        self.model=2023\n",
    "        self.has_roofs=True\n",
    "        \n",
    "    \n",
    "    def specific_usage(self):\n",
    "        print(\"travel with family,go to office\")\n",
    "        \n",
    "class MoterCycle(vehicle):\n",
    "    def __init__(self):\n",
    "        print(\"I am the motercycle\")\n",
    "        self.wheel=2\n",
    "        self.has_roof=True\n",
    "        self.model=2020\n",
    "    def specific_usage(self):\n",
    "        print(\"racing , carry wife to mikean\")\n",
    "\n",
    "        \n",
    "        \n",
    "c=Car()\n",
    "c.general_usage()\n",
    "c.specific_usage()\n",
    "\n",
    "moter=MoterCycle()\n",
    "moter.general_usage()\n",
    "moter.specific_usage()\n",
    "moter.model\n",
    "    "
   ]
  },
  {
   "cell_type": "markdown",
   "id": "51e11f9e",
   "metadata": {},
   "source": [
    "# Python Iterators\n",
    "\n",
    "An iterator is an object that contains a countable number of values.\n",
    "\n",
    "An iterator is an object that can be iterated upon, meaning that you can traverse through all the values.\n",
    "\n",
    "Technically, in Python, an iterator is an object which implements the iterator protocol, \n",
    "\n",
    "which consist of the methods __iter__() and __next__()."
   ]
  },
  {
   "cell_type": "code",
   "execution_count": 48,
   "id": "e6ef5ba7",
   "metadata": {},
   "outputs": [
    {
     "name": "stdout",
     "output_type": "stream",
     "text": [
      "apple\n",
      "banana\n",
      "cherry\n",
      "a\n",
      "b\n",
      "c\n"
     ]
    }
   ],
   "source": [
    "tuple1 = (\"apple\", \"banana\", \"cherry\")\n",
    "m= iter(tuple1)\n",
    "\n",
    "print(next(m))\n",
    "print(next(m))\n",
    "print(next(m))\n",
    "\n",
    "\n",
    "x=\"abc\"\n",
    "y=iter(x)\n",
    "print(next(y))\n",
    "print(next(y))\n",
    "print(next(y))"
   ]
  },
  {
   "cell_type": "code",
   "execution_count": 49,
   "id": "08006ca1",
   "metadata": {},
   "outputs": [
    {
     "name": "stdout",
     "output_type": "stream",
     "text": [
      "1\n",
      "2\n",
      "3\n",
      "---Stop Condition---\n",
      "1\n",
      "2\n",
      "3\n",
      "4\n",
      "5\n",
      "6\n",
      "7\n",
      "8\n",
      "9\n",
      "10\n",
      "11\n",
      "12\n",
      "13\n",
      "14\n",
      "15\n",
      "16\n",
      "17\n",
      "18\n",
      "19\n",
      "20\n"
     ]
    }
   ],
   "source": [
    "class Iterator():\n",
    "    def __iter__(self):\n",
    "        self.a=1\n",
    "        return self\n",
    "    \n",
    "    def __next__(self):\n",
    "        x=self.a\n",
    "        self.a+=1\n",
    "        return x\n",
    "    \n",
    "    \n",
    "i=Iterator()\n",
    "x=iter(i)\n",
    "print(next(x))\n",
    "print(next(x))\n",
    "print(next(x))\n",
    "\n",
    "print(\"---Stop Condition---\")\n",
    "\n",
    "class Iterator():\n",
    "    def __iter__(self):\n",
    "        self.a=1\n",
    "        return self\n",
    "    \n",
    "    def __next__(self):\n",
    "        if self.a<=20:\n",
    "            x=self.a\n",
    "            self.a+=1\n",
    "            return x\n",
    "        else:\n",
    "            raise StopIteration\n",
    "    \n",
    "    \n",
    "i=Iterator()\n",
    "x=iter(i)\n",
    "\n",
    "for a in x:\n",
    "    print(a)\n",
    "\n",
    "        \n",
    "        "
   ]
  },
  {
   "cell_type": "markdown",
   "id": "85a75e7d",
   "metadata": {},
   "source": [
    "# Polymorphism"
   ]
  },
  {
   "cell_type": "markdown",
   "id": "c5f25926",
   "metadata": {},
   "source": [
    "# function overloading\n",
    "same name but different arguement"
   ]
  },
  {
   "cell_type": "code",
   "execution_count": 50,
   "id": "61b509e8",
   "metadata": {},
   "outputs": [
    {
     "name": "stdout",
     "output_type": "stream",
     "text": [
      "6\n",
      "138\n",
      "81\n",
      "6\n",
      "12\n",
      "17.204\n"
     ]
    }
   ],
   "source": [
    "def add(a,b):\n",
    "    c=a+b\n",
    "    print(c)\n",
    "    \n",
    "add(2,4)\n",
    "\n",
    "def add(a,b,c):\n",
    "    d=a+b+c\n",
    "    print(d)\n",
    "add(123,12,3)\n",
    "\n",
    "def add():\n",
    "    c=9**2\n",
    "    print(c)\n",
    "    \n",
    "add()\n",
    "\n",
    "\n",
    "from multipledispatch import dispatch\n",
    " \n",
    "# passing one parameter\n",
    " \n",
    " \n",
    "@dispatch(int, int)\n",
    "def product(first, second):\n",
    "    result = first*second\n",
    "    print(result)\n",
    " \n",
    "# passing two parameters\n",
    " \n",
    " \n",
    "@dispatch(int, int, int)\n",
    "def product(first, second, third):\n",
    "    result = first * second * third\n",
    "    print(result)\n",
    " \n",
    "# you can also pass data type of any value as per requirement\n",
    " \n",
    " \n",
    "@dispatch(float, float, float)\n",
    "def product(first, second, third):\n",
    "    result = first * second * third\n",
    "    print(result)\n",
    " \n",
    " \n",
    "# calling product method with 2 arguments\n",
    "product(2, 3)  # this will give output of 6\n",
    " \n",
    "# calling product method with 3 arguments but all int\n",
    "product(2, 3, 2)  # this will give output of 12\n",
    " \n",
    "# calling product method with 3 arguments but all float\n",
    "product(2.2, 3.4, 2.3)  # this will give output of 17.98599999999999"
   ]
  },
  {
   "cell_type": "markdown",
   "id": "0f01cbfd",
   "metadata": {},
   "source": [
    "# Function Overriding\n",
    "same name of function but different arguement in class"
   ]
  },
  {
   "cell_type": "code",
   "execution_count": 51,
   "id": "442933eb",
   "metadata": {},
   "outputs": [
    {
     "name": "stdout",
     "output_type": "stream",
     "text": [
      "44\n",
      "7\n"
     ]
    }
   ],
   "source": [
    "class add1:\n",
    "    def add(self,a,b):\n",
    "        c=a+b\n",
    "        print(c)\n",
    "    \n",
    "class add2(add1):\n",
    "    def add(self,a,b,c):\n",
    "        d=a+b+c\n",
    "        print(d)\n",
    "\n",
    "class add3(add2):\n",
    "    def add(self):\n",
    "        c=9**2\n",
    "        print(c)\n",
    "    \n",
    "\n",
    "obj1=add1()\n",
    "obj1.add(32,12)\n",
    "obj2=add2()\n",
    "obj2.add(1,3,3)\n",
    "    "
   ]
  },
  {
   "cell_type": "markdown",
   "id": "a3b79702",
   "metadata": {},
   "source": [
    "# Python Datetime\n",
    "https://www.w3schools.com/python/python_datetime.asp"
   ]
  },
  {
   "cell_type": "code",
   "execution_count": 52,
   "id": "088c610a",
   "metadata": {},
   "outputs": [
    {
     "name": "stdout",
     "output_type": "stream",
     "text": [
      "2023-07-09 15:59:39.403475\n",
      "2023\n",
      "Sunday\n",
      "July\n"
     ]
    }
   ],
   "source": [
    "import datetime\n",
    "x=datetime.datetime.now()\n",
    "print(x)\n",
    "\n",
    "print(x.year)\n",
    "print(x.strftime(\"%A\"))\n",
    "print(x.strftime(\"%B\"))"
   ]
  },
  {
   "cell_type": "markdown",
   "id": "b7411924",
   "metadata": {},
   "source": [
    "# Python Math"
   ]
  },
  {
   "cell_type": "code",
   "execution_count": 53,
   "id": "b92f21f7",
   "metadata": {},
   "outputs": [
    {
     "name": "stdout",
     "output_type": "stream",
     "text": [
      "45\n",
      "1\n",
      "8\n",
      "2.34\n",
      "3.0\n",
      "3.141592653589793\n",
      "2\n",
      "1\n"
     ]
    }
   ],
   "source": [
    "set1={1,2,3,45,6,7}\n",
    "print(max(set1))\n",
    "print(min(set1))\n",
    "\n",
    "\n",
    "print(pow(2,3))\n",
    "\n",
    "print(abs(-2.34))\n",
    "\n",
    "import math\n",
    "\n",
    "print(math.sqrt(9))\n",
    "\n",
    "print(math.pi)\n",
    "\n",
    "print(math.ceil(1.7))\n",
    "print(math.floor(1.7))"
   ]
  },
  {
   "cell_type": "markdown",
   "id": "4718c4a8",
   "metadata": {},
   "source": [
    "# Python JSON\n",
    "JSON is a syntax for storing and exchanging data.\n",
    "\n",
    "JSON is text, written with JavaScript object notation."
   ]
  },
  {
   "cell_type": "code",
   "execution_count": 54,
   "id": "ca22e7f5",
   "metadata": {},
   "outputs": [
    {
     "name": "stdout",
     "output_type": "stream",
     "text": [
      "{\"name\":\"Bakhsial\",\"age\":21,\"city\":\"Khaipur\"} <class 'str'>\n",
      "Bakhsial\n",
      "<class 'dict'>\n",
      "{\"name\": \"Bakhshial\", \"age\": 12, \"country\": \"Pakistan\"} <class 'str'>\n"
     ]
    }
   ],
   "source": [
    "#json to python\n",
    "import json\n",
    "d='{\"name\":\"Bakhsial\",\"age\":21,\"city\":\"Khaipur\"}'\n",
    "print(d,type(d))\n",
    "x=json.loads(d)\n",
    "print(x[\"name\"])\n",
    "\n",
    "\n",
    "#python to json\n",
    "\n",
    "dict1={\n",
    "    \"name\":\"Bakhshial\",\n",
    "    \"age\":12,\n",
    "    \"country\":\"Pakistan\"\n",
    "}\n",
    "print(type(dict1))\n",
    "\n",
    "x=json.dumps(dict1)\n",
    "print(x,type(x))"
   ]
  },
  {
   "cell_type": "code",
   "execution_count": 55,
   "id": "19173f83",
   "metadata": {},
   "outputs": [
    {
     "name": "stdout",
     "output_type": "stream",
     "text": [
      "{\"name\": \"John\", \"age\": 30}\n",
      "[\"apple\", \"bananas\"]\n",
      "[\"apple\", \"bananas\"]\n",
      "\"hello\"\n",
      "42\n",
      "31.76\n",
      "true\n",
      "false\n",
      "null\n"
     ]
    }
   ],
   "source": [
    "import json\n",
    "\n",
    "print(json.dumps({\"name\": \"John\", \"age\": 30}))\n",
    "print(json.dumps([\"apple\", \"bananas\"]))\n",
    "print(json.dumps((\"apple\", \"bananas\")))\n",
    "print(json.dumps(\"hello\"))\n",
    "print(json.dumps(42))\n",
    "print(json.dumps(31.76))\n",
    "print(json.dumps(True))\n",
    "print(json.dumps(False))\n",
    "print(json.dumps(None)) "
   ]
  },
  {
   "cell_type": "markdown",
   "id": "ea930ff6",
   "metadata": {},
   "source": [
    "# Python RegEx\n",
    " RegEx, or Regular Expression, is a sequence of characters that forms a search pattern.\n",
    "\n",
    "RegEx can be used to check if a string contains the specified search pattern."
   ]
  },
  {
   "cell_type": "code",
   "execution_count": 56,
   "id": "6926256b",
   "metadata": {},
   "outputs": [
    {
     "name": "stdout",
     "output_type": "stream",
     "text": [
      "<re.Match object; span=(0, 25), match='the raine in the Pakistan'>\n",
      "['The']\n",
      "Yes, there is a match!\n",
      "['ai', 'ai']\n",
      "The first white-space character is located in position: 3\n"
     ]
    }
   ],
   "source": [
    "import re\n",
    "txt=\"the raine in the Pakistan\"\n",
    "x=re.search(\"^the.*Pakistan$\",txt)\n",
    "y=re.search(\"^the.*riane$\",txt)\n",
    "print(x)\n",
    "\n",
    "\n",
    "txt = \"The rain in Spain\"\n",
    "\n",
    "#Check if the string starts with \"The\":\n",
    "\n",
    "x = re.findall(\"\\AThe\", txt)\n",
    "\n",
    "print(x)\n",
    "\n",
    "if x:\n",
    "  print(\"Yes, there is a match!\")\n",
    "else:\n",
    "  print(\"No match\")\n",
    "\n",
    "\n",
    "txt = \"The rain in Spain\"\n",
    "x = re.findall(\"ai\", txt)\n",
    "print(x) \n",
    "\n",
    "\n",
    "x = re.search(\"\\s\", txt)\n",
    "\n",
    "print(\"The first white-space character is located in position:\", x.start()) "
   ]
  },
  {
   "cell_type": "code",
   "execution_count": null,
   "id": "8113c899",
   "metadata": {},
   "outputs": [],
   "source": []
  },
  {
   "cell_type": "code",
   "execution_count": null,
   "id": "52a31edf",
   "metadata": {},
   "outputs": [],
   "source": []
  }
 ],
 "metadata": {
  "kernelspec": {
   "display_name": "Python 3 (ipykernel)",
   "language": "python",
   "name": "python3"
  },
  "language_info": {
   "codemirror_mode": {
    "name": "ipython",
    "version": 3
   },
   "file_extension": ".py",
   "mimetype": "text/x-python",
   "name": "python",
   "nbconvert_exporter": "python",
   "pygments_lexer": "ipython3",
   "version": "3.9.13"
  }
 },
 "nbformat": 4,
 "nbformat_minor": 5
}
