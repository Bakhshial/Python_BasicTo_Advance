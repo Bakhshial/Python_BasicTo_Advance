{
 "cells": [
  {
   "cell_type": "markdown",
   "id": "1851f456",
   "metadata": {},
   "source": [
    "# Tuple Data Type\n",
    "Tuples are used to store multiple items in a single variable.\n",
    "\n",
    "A tuple is a collection which is ordered and unchangeable.\n",
    "\n",
    "Tuples are written with round brackets."
   ]
  },
  {
   "cell_type": "code",
   "execution_count": 3,
   "id": "69846bef",
   "metadata": {},
   "outputs": [
    {
     "name": "stdout",
     "output_type": "stream",
     "text": [
      "('Nice', 'to', 'meet', 'you') <class 'tuple'>\n",
      "4\n",
      "(1, 4, 2, 'Mangoe', 'Nice', True)\n"
     ]
    }
   ],
   "source": [
    "tupl=(\"Nice\",\"to\",\"meet\",\"you\")\n",
    "print(tupl,type(tupl))\n",
    "print(len(tupl))\n",
    "\n",
    "tup2=(1,4,2,\"Mangoe\",\"Nice\",True)\n",
    "print(tup2)"
   ]
  },
  {
   "cell_type": "markdown",
   "id": "0185467b",
   "metadata": {},
   "source": [
    "# Access Tuple"
   ]
  },
  {
   "cell_type": "code",
   "execution_count": 13,
   "id": "7e5ec3b6",
   "metadata": {},
   "outputs": [
    {
     "name": "stdout",
     "output_type": "stream",
     "text": [
      "Nice\n",
      "(9, 1, 2)\n",
      "(2, 3, 7, 5, 8, 6, 4)\n",
      "4\n",
      "(8, 6)\n"
     ]
    }
   ],
   "source": [
    "tupl=(\"Nice\",\"to\",\"meet\",\"you\")\n",
    "print(tupl[0])\n",
    "\n",
    "t=(9,1,2,3,7,5,8,6,4)\n",
    "print(t[:3])\n",
    "print(t[2:9])\n",
    "\n",
    "print(t[-1])\n",
    "print(t[-3:-1])"
   ]
  },
  {
   "cell_type": "markdown",
   "id": "5dc4acee",
   "metadata": {},
   "source": [
    "# Update Tuples\n",
    "\n",
    "Change Tuple Values\n",
    "\n",
    "Once a tuple is created, you cannot change its values. Tuples are unchangeable, or immutable as it also is called.\n",
    "\n",
    "But there is a workaround. You can convert the tuple into a list, change the list, and convert the list back into a tuple."
   ]
  },
  {
   "cell_type": "code",
   "execution_count": 15,
   "id": "0a065ae6",
   "metadata": {},
   "outputs": [
    {
     "name": "stdout",
     "output_type": "stream",
     "text": [
      "('apple', 'Mangoe', 'banana', 'kiwi')\n"
     ]
    }
   ],
   "source": [
    "tup=(\"Orang\",\"Mangoe\",\"banana\",\"kiwi\")\n",
    "l=list(tup)\n",
    "\n",
    "l[0]=\"apple\"\n",
    "\n",
    "tup=tuple(l)\n",
    "print(tup)"
   ]
  },
  {
   "cell_type": "code",
   "execution_count": 16,
   "id": "0268a544",
   "metadata": {},
   "outputs": [
    {
     "name": "stdout",
     "output_type": "stream",
     "text": [
      "apple\n",
      "banana\n",
      "cherry\n"
     ]
    }
   ],
   "source": [
    "#Unpacking Tuple\n",
    "\n",
    "fruits = (\"apple\", \"banana\", \"cherry\")\n",
    "\n",
    "(green, yellow, red) = fruits\n",
    "\n",
    "print(green)\n",
    "\n",
    "print(yellow)\n",
    "\n",
    "print(red)\n"
   ]
  },
  {
   "cell_type": "markdown",
   "id": "04e5d9bf",
   "metadata": {},
   "source": [
    "# loop the Tuple"
   ]
  },
  {
   "cell_type": "code",
   "execution_count": 29,
   "id": "80aa8c70",
   "metadata": {},
   "outputs": [
    {
     "name": "stdout",
     "output_type": "stream",
     "text": [
      "Orang\n",
      "Mangoe\n",
      "banana\n",
      "kiwi\n",
      "\n",
      "\n",
      "\n",
      "Orang\n",
      "Mangoe\n",
      "banana\n",
      "kiwi\n",
      "\n",
      "---While loop---\n",
      "\n",
      "Orang\n",
      "Mangoe\n",
      "banana\n",
      "kiwi\n"
     ]
    }
   ],
   "source": [
    "tup=(\"Orang\",\"Mangoe\",\"banana\",\"kiwi\")\n",
    "for i in tup:\n",
    "    print(i)\n",
    "print(\"\\n\\n\")\n",
    "for i in range(len(tup)):\n",
    "    print(tup[i])\n",
    "\n",
    "print(\"\\n---While loop---\\n\")\n",
    "i=0\n",
    "while i<len(tup):\n",
    "    print(tup[i])\n",
    "    i=i+1"
   ]
  },
  {
   "cell_type": "code",
   "execution_count": 30,
   "id": "8127989f",
   "metadata": {},
   "outputs": [
    {
     "name": "stdout",
     "output_type": "stream",
     "text": [
      "(1, 2, 3, 4, 5, 'asd', 'der', 'ert')\n"
     ]
    }
   ],
   "source": [
    "# Join tuple\n",
    "tup1=(1,2,3,4,5)\n",
    "tup2=(\"asd\",\"der\",\"ert\")\n",
    "print(tup1+tup2)"
   ]
  },
  {
   "cell_type": "markdown",
   "id": "db31bfe9",
   "metadata": {},
   "source": [
    "# Set\n",
    "\n",
    "Sets are used to store multiple items in a single variable.\n",
    "\n",
    "A set is a collection which is unordered, unchangeable*, and unindexed.\n",
    "\n",
    "do not allow duplicate values.\n"
   ]
  },
  {
   "cell_type": "code",
   "execution_count": 5,
   "id": "3fac382c",
   "metadata": {},
   "outputs": [
    {
     "name": "stdout",
     "output_type": "stream",
     "text": [
      "{'Chocolate', 'milk', 'fruits', 'Cake'} <class 'set'>\n",
      "4\n",
      "{1, 2, 3, 4, 5, 6, 7}\n",
      "{'Hi', 1, 3, 4, 'Nice'}\n"
     ]
    }
   ],
   "source": [
    "Set={\"Chocolate\",\"Cake\",\"milk\",\"fruits\"}\n",
    "print(Set,type(Set))\n",
    "print(len(Set))\n",
    "\n",
    "Set1={1,2,3,4,5,6,7,7,7} # Duplicate appears noly one time\n",
    "print(Set1)\n",
    "\n",
    "set2={1,3,4,\"Hi\",\"Nice\",True}\n",
    "print(set2)"
   ]
  },
  {
   "cell_type": "markdown",
   "id": "9aa29e00",
   "metadata": {},
   "source": [
    "# Access item of set\n",
    "You cannot access items in a set by referring to an index or a key\n",
    "\n",
    "use loop"
   ]
  },
  {
   "cell_type": "code",
   "execution_count": 11,
   "id": "9bac5c92",
   "metadata": {},
   "outputs": [
    {
     "name": "stdout",
     "output_type": "stream",
     "text": [
      "1\n",
      "2\n",
      "3\n",
      "4\n",
      "5\n",
      "banana\n",
      "Chocolate\n",
      "True\n",
      "True\n"
     ]
    }
   ],
   "source": [
    "set1={1,2,3,4,5,\"banana\",\"Chocolate\"}\n",
    "for i in set1:\n",
    "    print(i)\n",
    "    \n",
    "    \n",
    "print(5 in set1)\n",
    "print(\"banana\" in set1)"
   ]
  },
  {
   "cell_type": "markdown",
   "id": "e417b957",
   "metadata": {},
   "source": [
    "# Add Set Items"
   ]
  },
  {
   "cell_type": "code",
   "execution_count": 13,
   "id": "eb97b950",
   "metadata": {},
   "outputs": [
    {
     "name": "stdout",
     "output_type": "stream",
     "text": [
      "{'orange', 'cherry', 'apple', 'Banana', 'kiwi', 'mangoes'}\n",
      "{'orange', 'cherry', 'Banana', 'kiwi', 'mangoes', 'lasi', 'apple', 'butter', 'milk'}\n"
     ]
    }
   ],
   "source": [
    "set2={\"mangoes\",\"apple\",\"Banana\",\"cherry\",\"kiwi\"}\n",
    "set2.add(\"orange\")\n",
    "print(set2)\n",
    "\n",
    "\n",
    "set3={\"milk\",\"lasi\",\"butter\"}\n",
    "set2.update(set3)\n",
    "print(set2)"
   ]
  },
  {
   "cell_type": "markdown",
   "id": "3ff08073",
   "metadata": {},
   "source": [
    "# Remove set or set items"
   ]
  },
  {
   "cell_type": "code",
   "execution_count": 23,
   "id": "d12fe6a3",
   "metadata": {},
   "outputs": [
    {
     "name": "stdout",
     "output_type": "stream",
     "text": [
      "{'cherry', 'Banana', 'kiwi', 'mangoes'}\n",
      "{'cherry', 'Banana', 'kiwi'}\n",
      "{'apple', 'Banana', 'kiwi', 'mangoes'}\n",
      "set()\n"
     ]
    },
    {
     "ename": "NameError",
     "evalue": "name 'set2' is not defined",
     "output_type": "error",
     "traceback": [
      "\u001b[1;31m---------------------------------------------------------------------------\u001b[0m",
      "\u001b[1;31mNameError\u001b[0m                                 Traceback (most recent call last)",
      "\u001b[1;32m~\\AppData\\Local\\Temp\\ipykernel_11160\\702341064.py\u001b[0m in \u001b[0;36m<module>\u001b[1;34m\u001b[0m\n\u001b[0;32m     18\u001b[0m \u001b[0mset2\u001b[0m\u001b[1;33m=\u001b[0m\u001b[1;33m{\u001b[0m\u001b[1;34m\"mangoes\"\u001b[0m\u001b[1;33m,\u001b[0m\u001b[1;34m\"apple\"\u001b[0m\u001b[1;33m,\u001b[0m\u001b[1;34m\"Banana\"\u001b[0m\u001b[1;33m,\u001b[0m\u001b[1;34m\"cherry\"\u001b[0m\u001b[1;33m,\u001b[0m\u001b[1;34m\"kiwi\"\u001b[0m\u001b[1;33m}\u001b[0m\u001b[1;33m\u001b[0m\u001b[1;33m\u001b[0m\u001b[0m\n\u001b[0;32m     19\u001b[0m \u001b[1;32mdel\u001b[0m \u001b[0mset2\u001b[0m\u001b[1;33m\u001b[0m\u001b[1;33m\u001b[0m\u001b[0m\n\u001b[1;32m---> 20\u001b[1;33m \u001b[0mprint\u001b[0m\u001b[1;33m(\u001b[0m\u001b[0mset2\u001b[0m\u001b[1;33m)\u001b[0m\u001b[1;33m\u001b[0m\u001b[1;33m\u001b[0m\u001b[0m\n\u001b[0m",
      "\u001b[1;31mNameError\u001b[0m: name 'set2' is not defined"
     ]
    }
   ],
   "source": [
    "set2={\"mangoes\",\"apple\",\"Banana\",\"cherry\",\"kiwi\"}\n",
    "\n",
    "set2.remove(\"apple\")\n",
    "print(set2)\n",
    "\n",
    "set2.discard(\"mangoes\")\n",
    "print(set2)\n",
    "\n",
    "\n",
    "set2={\"mangoes\",\"apple\",\"Banana\",\"cherry\",\"kiwi\"}\n",
    "set2.pop() # remove randomly\n",
    "print(set2)\n",
    "\n",
    "\n",
    "set2.clear()\n",
    "print(set2)\n",
    "\n",
    "set2={\"mangoes\",\"apple\",\"Banana\",\"cherry\",\"kiwi\"}\n",
    "del set2\n",
    "print(set2)"
   ]
  },
  {
   "cell_type": "markdown",
   "id": "b37c1164",
   "metadata": {},
   "source": [
    "# Join Two Sets"
   ]
  },
  {
   "cell_type": "code",
   "execution_count": 26,
   "id": "d6fa43b9",
   "metadata": {},
   "outputs": [
    {
     "name": "stdout",
     "output_type": "stream",
     "text": [
      "update() method that inserts all the items from one set into another\n",
      "{'cherry', 'chcolate', 'Banana', 'kiwi', 'mangoes', 'lasi', 'apple', 'butter', 'milk'}\n",
      "\n",
      " union() method that returns a new set containing all items from both sets\n",
      "{'cherry', 'chcolate', 'Banana', 'kiwi', 'mangoes', 'lasi', 'apple', 'butter', 'milk'}\n"
     ]
    }
   ],
   "source": [
    "set1={\"mangoes\",\"apple\",\"Banana\",\"cherry\",\"kiwi\"}\n",
    "set2={\"milk\",\"chcolate\",\"butter\",\"lasi\"}\n",
    "\n",
    "print(\"update() method that inserts all the items from one set into another\")\n",
    "set1.update(set2)\n",
    "print(set1)\n",
    "\n",
    "print(\"\\n union() method that returns a new set containing all items from both sets\")\n",
    "\n",
    "set3=set1.union(set2)\n",
    "print(set3)"
   ]
  },
  {
   "cell_type": "markdown",
   "id": "ede41448",
   "metadata": {},
   "source": [
    "# Set method\n",
    "https://www.w3schools.com/python/python_sets_methods.asp"
   ]
  },
  {
   "cell_type": "markdown",
   "id": "6f9f1741",
   "metadata": {},
   "source": [
    "# Dictionary"
   ]
  },
  {
   "cell_type": "code",
   "execution_count": 34,
   "id": "8b1d3fd3",
   "metadata": {},
   "outputs": [
    {
     "name": "stdout",
     "output_type": "stream",
     "text": [
      "{'name': 'Bakhshial', 'age': 21, 'semester': 'Fifth', 'Detial': ['third year', 'fifth_semester', '21-bscs-70']}\n"
     ]
    }
   ],
   "source": [
    "dit={\n",
    "    \"name\":\"Bakhshial\",\n",
    "    \"age\": 21,\n",
    "    \"semester\":\"Fifth\",\n",
    "    \"Detial\":[\"third year\",\"fifth_semester\",\"21-bscs-70\"]\n",
    "}\n",
    "print(dit)\n",
    "\n"
   ]
  },
  {
   "cell_type": "code",
   "execution_count": 47,
   "id": "5614a623",
   "metadata": {},
   "outputs": [
    {
     "name": "stdout",
     "output_type": "stream",
     "text": [
      "Bakhshial\n",
      "\n",
      "-----all keys----\n",
      "\n",
      "dict_keys(['name', 'age', 'semester', 'Detial', 'Univesity'])\n",
      "dict_keys(['name', 'age', 'semester', 'Detial', 'Univesity'])\n",
      "\n",
      "-----all values-----\n",
      "\n",
      "dict_values(['Bakhshial', 21, 'Fifth', ['third year', 'fifth_semester', '21-bscs-70'], 'The Shaikh Ayaz University of Shikarpur'])\n",
      "\n",
      "-----all items-----\n",
      "\n",
      "dict_items([('name', 'Bakhshial'), ('age', 21), ('semester', 'Fifth'), ('Detial', ['third year', 'fifth_semester', '21-bscs-70']), ('Univesity', 'The Shaikh Ayaz University of Shikarpur')])\n"
     ]
    }
   ],
   "source": [
    "# Access dictionary item\n",
    "print(dit[\"name\"])\n",
    "\n",
    "# list of all keys\n",
    "print(\"\\n-----all keys----\\n\")\n",
    "\n",
    "print(dit.keys())\n",
    "\n",
    "dit[\"Univesity\"]=\"The Shaikh Ayaz University of Shikarpur\"\n",
    "print(dit.keys())\n",
    "\n",
    "print(\"\\n-----all values-----\\n\")\n",
    "\n",
    "x=dit.values()\n",
    "print(x)\n",
    "\n",
    "\n",
    "print(\"\\n-----all items-----\\n\")\n",
    "\n",
    "y=dit.items()\n",
    "print(y)"
   ]
  },
  {
   "cell_type": "code",
   "execution_count": 56,
   "id": "48d37a55",
   "metadata": {},
   "outputs": [
    {
     "name": "stdout",
     "output_type": "stream",
     "text": [
      "----check if-----\n",
      "\n",
      "Yes, 'model' is one of the keys in the thisdict dictionary\n"
     ]
    }
   ],
   "source": [
    "print(\"----check if-----\\n\")\n",
    "dict1 =\t{\n",
    "  \"brand\": \"Ford\",\n",
    "  \"model\": \"Mustang\",\n",
    "  \"year\": 1964\n",
    "}\n",
    "if \"model\" in thisdict:\n",
    "  print(\"Yes, 'model' is one of the keys in the thisdict dictionary\") "
   ]
  },
  {
   "cell_type": "code",
   "execution_count": 59,
   "id": "08f20ef5",
   "metadata": {},
   "outputs": [
    {
     "name": "stdout",
     "output_type": "stream",
     "text": [
      "{'brand': 'Ford', 'model': 'Mustang', 'year': '2020'}\n"
     ]
    }
   ],
   "source": [
    "dict1.update({\"year\":\"2020\"})\n",
    "print(dict1)"
   ]
  },
  {
   "cell_type": "code",
   "execution_count": 70,
   "id": "266a6ab3",
   "metadata": {},
   "outputs": [
    {
     "name": "stdout",
     "output_type": "stream",
     "text": [
      "{'name': 'Bakhshial', 'age': 21, 'semester': 'Fifth', 'Detial': ['third year', 'fifth_semester', '21-bscs-70']}\n",
      "{'name': 'Bakhshial', 'age': 21, 'semester': 'Fifth'}\n",
      "{}\n",
      "{'name': 'Bakhshial', 'ge': 21, 'semester': 'Fifth'}\n"
     ]
    }
   ],
   "source": [
    "# remove items \n",
    "\n",
    "dit={\n",
    "    \"name\":\"Bakhshial\",\n",
    "    \"age\": 21,\n",
    "    \"semester\":\"Fifth\",\n",
    "    \"Detial\":[\"third year\",\"fifth_semester\",\"21-bscs-70\"]\n",
    "}\n",
    "print(dit)\n",
    "dit.pop(\"Detial\")\n",
    "print(dit)\n",
    "\n",
    "dit.popitem()\n",
    "\n",
    "dit.clear()\n",
    "print(dit)\n",
    "\n",
    "dit={\n",
    "    \"name\":\"Bakhshial\",\n",
    "    \"ge\": 21,\n",
    "    \"semester\":\"Fifth\",\n",
    "    \"Detial\":[\"third year\",\"fifth_semester\",\"21-bscs-70\"]\n",
    "}\n",
    "\n",
    "del dit[\"Detial\"]\n",
    "print(dit)\n",
    "\n",
    "del dit"
   ]
  },
  {
   "cell_type": "code",
   "execution_count": 78,
   "id": "f33ed650",
   "metadata": {},
   "outputs": [
    {
     "name": "stdout",
     "output_type": "stream",
     "text": [
      "name\n",
      "Bakhshial\n",
      "age\n",
      "21\n",
      "semester\n",
      "Fifth\n",
      "Detial\n",
      "['third year', 'fifth_semester', '21-bscs-70']\n",
      "\n",
      "---print all values----\n",
      "\n",
      "Bakhshial\n",
      "21\n",
      "Fifth\n",
      "['third year', 'fifth_semester', '21-bscs-70']\n",
      "\n",
      "---all keys---\n",
      "\n",
      "name\n",
      "age\n",
      "semester\n",
      "Detial\n",
      "\n",
      "--- all items---\n",
      "\n",
      "name Bakhshial\n",
      "age 21\n",
      "semester Fifth\n",
      "Detial ['third year', 'fifth_semester', '21-bscs-70']\n"
     ]
    }
   ],
   "source": [
    "dit={\n",
    "    \"name\":\"Bakhshial\",\n",
    "    \"age\": 21,\n",
    "    \"semester\":\"Fifth\",\n",
    "    \"Detial\":[\"third year\",\"fifth_semester\",\"21-bscs-70\"]\n",
    "}\n",
    "\n",
    "for i in dit:\n",
    "    print(i)\n",
    "    print(dit[i])\n",
    "\n",
    "print(\"\\n---print all values----\\n\")\n",
    "for i in dit.values():\n",
    "    print(i)\n",
    "\n",
    "print(\"\\n---all keys---\\n\")\n",
    "for i in dit.keys():\n",
    "    print(i)\n",
    "    \n",
    "print(\"\\n--- all items---\\n\")\n",
    "for x,y in dit.items():\n",
    "    print(x,y)"
   ]
  },
  {
   "cell_type": "code",
   "execution_count": 81,
   "id": "85325ebb",
   "metadata": {},
   "outputs": [
    {
     "name": "stdout",
     "output_type": "stream",
     "text": [
      "{'name': 'Bakhshial', 'age': 21, 'semester': 'Fifth', 'Detial': ['third year', 'fifth_semester', '21-bscs-70'], 'Univesity': 'The Shaikh Ayaz University of Shikarpur'}\n",
      "{'name': 'Bakhshial', 'age': 21, 'semester': 'Fifth', 'Detial': ['third year', 'fifth_semester', '21-bscs-70'], 'Univesity': 'The Shaikh Ayaz University of Shikarpur'}\n"
     ]
    }
   ],
   "source": [
    "# Copy dictionary\n",
    "dict1={\n",
    "    \"name\":\"Bakhshial\",\n",
    "    \"age\": 21,\n",
    "    \"semester\":\"Fifth\",\n",
    "    \"Detial\":[\"third year\",\"fifth_semester\",\"21-bscs-70\"],\n",
    "    \"Univesity\":\"The Shaikh Ayaz University of Shikarpur\"\n",
    "}\n",
    "\n",
    "dict2=dict1.copy()\n",
    "print(dict2)\n",
    "\n",
    "dict3=dict(dict1)\n",
    "print(dict3)"
   ]
  },
  {
   "cell_type": "code",
   "execution_count": 84,
   "id": "af292032",
   "metadata": {},
   "outputs": [
    {
     "name": "stdout",
     "output_type": "stream",
     "text": [
      "{'s1': {'name': 'Bakhshial', 'age': 21, 'semester': 'Fifth', 'Detial': ['third year', 'fifth_semester', '21-bscs-70'], 'Univesity': 'The Shaikh Ayaz University of Shikarpur'}, 's2': {'name': 'Ali', 'age': 21, 'semester': 'Fifth', 'Detial': ['third year', 'fifth_semester', '21-bscs-30'], 'Univesity': 'The Shaikh Ayaz University of Shikarpur'}, 's3': {'name': 'Shoaib', 'age': 21, 'semester': 'Fifth', 'Detial': ['third year', 'fifth_semester', '21-bscs-40'], 'Univesity': 'The Shaikh Ayaz University of Shikarpur'}}\n"
     ]
    }
   ],
   "source": [
    "dict1={\n",
    "    \"s1\":{\n",
    "    \"name\":\"Bakhshial\",\n",
    "    \"age\": 21,\n",
    "    \"semester\":\"Fifth\",\n",
    "    \"Detial\":[\"third year\",\"fifth_semester\",\"21-bscs-70\"],\n",
    "    \"Univesity\":\"The Shaikh Ayaz University of Shikarpur\"\n",
    "},\n",
    "    \"s2\":{\n",
    "    \"name\":\"Ali\",\n",
    "    \"age\": 21,\n",
    "    \"semester\":\"Fifth\",\n",
    "    \"Detial\":[\"third year\",\"fifth_semester\",\"21-bscs-30\"],\n",
    "    \"Univesity\":\"The Shaikh Ayaz University of Shikarpur\"\n",
    "},\n",
    "    \"s3\":{\n",
    "    \"name\":\"Shoaib\",\n",
    "    \"age\": 21,\n",
    "    \"semester\":\"Fifth\",\n",
    "    \"Detial\":[\"third year\",\"fifth_semester\",\"21-bscs-40\"],\n",
    "    \"Univesity\":\"The Shaikh Ayaz University of Shikarpur\"\n",
    "}\n",
    "}\n",
    "print(dict1)"
   ]
  },
  {
   "cell_type": "markdown",
   "id": "d059a67d",
   "metadata": {},
   "source": [
    "# Dictionary Method\n",
    "https://www.w3schools.com/python/python_dictionaries_methods.asp"
   ]
  },
  {
   "cell_type": "code",
   "execution_count": null,
   "id": "53ea1eeb",
   "metadata": {},
   "outputs": [],
   "source": []
  }
 ],
 "metadata": {
  "kernelspec": {
   "display_name": "Python 3 (ipykernel)",
   "language": "python",
   "name": "python3"
  },
  "language_info": {
   "codemirror_mode": {
    "name": "ipython",
    "version": 3
   },
   "file_extension": ".py",
   "mimetype": "text/x-python",
   "name": "python",
   "nbconvert_exporter": "python",
   "pygments_lexer": "ipython3",
   "version": "3.9.13"
  }
 },
 "nbformat": 4,
 "nbformat_minor": 5
}
