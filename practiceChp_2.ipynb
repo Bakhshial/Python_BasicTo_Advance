{
 "cells": [
  {
   "cell_type": "markdown",
   "id": "d64e7a10",
   "metadata": {},
   "source": [
    "# Formtting"
   ]
  },
  {
   "cell_type": "code",
   "execution_count": 3,
   "id": "6d500594",
   "metadata": {},
   "outputs": [
    {
     "name": "stdout",
     "output_type": "stream",
     "text": [
      "enter minutes:3611\n",
      "hours: 1.0\n",
      "minuts: 0.0\n",
      "second: 11.0\n"
     ]
    }
   ],
   "source": [
    "#get the number of minutes\n",
    "total_second=float(input(\"enter minutes:\"))\n",
    "\n",
    "#get hours\n",
    "hours=total_second//3600\n",
    "#get raimaining minuts\n",
    "minuts=(total_second//60)%60\n",
    "\n",
    "#remaining  second\n",
    "second=total_second%60\n",
    "\n",
    "\n",
    "print(\"hours:\",hours)\n",
    "print(\"minuts:\",minuts)\n",
    "print(\"second:\",second)"
   ]
  },
  {
   "cell_type": "code",
   "execution_count": 1,
   "id": "649a2adb",
   "metadata": {},
   "outputs": [
    {
     "name": "stdout",
     "output_type": "stream",
     "text": [
      "print value of x  34.34\n",
      "my age is 22 and now i am learning data science\n",
      "my age is 22\n"
     ]
    }
   ],
   "source": [
    "x=34.345\n",
    "print(\"print value of x \",format(x,'.2f'))\n",
    "age=22\n",
    "txt=\"my age is {} and now i am learning data science\"\n",
    "print(txt.format(age))\n",
    "print(f\"my age is {age}\")\n"
   ]
  },
  {
   "cell_type": "code",
   "execution_count": 2,
   "id": "f60e7a8e",
   "metadata": {},
   "outputs": [
    {
     "name": "stdout",
     "output_type": "stream",
     "text": [
      "12,233,445.459\n",
      "1.234568e+04\n",
      "1.23e+04\n"
     ]
    }
   ],
   "source": [
    "print(format(12233445.458678,\",.3f\"))\n",
    "print(format(12345.6789, 'e'))\n",
    "print(format(12345.6789, '.2e'))"
   ]
  },
  {
   "cell_type": "code",
   "execution_count": 3,
   "id": "eecd0f53",
   "metadata": {},
   "outputs": [
    {
     "name": "stdout",
     "output_type": "stream",
     "text": [
      "print 20 space away:        12,334,456.34\n",
      "total percentage is: 12333.400000%\n",
      "total percentage is: 12333.40%\n",
      "integer value here d for integer 1234\n",
      "print value within in 15 space:         123,455\n"
     ]
    }
   ],
   "source": [
    "print(\"print 20 space away:\",format(12334456.3445,\"20,.2f\"))\n",
    "#show percentage\n",
    "print(\"total percentage is:\",format(123.334,\"%\"))\n",
    "print(\"total percentage is:\",format(123.334,\"0.2%\"))\n",
    "print(\"integer value here d for integer\",format(1234,\"d\"))\n",
    "print(\"print value within in 15 space:\",format(123455,\"15,d\"))"
   ]
  },
  {
   "cell_type": "code",
   "execution_count": 4,
   "id": "f727afd1",
   "metadata": {},
   "outputs": [],
   "source": [
    "#Turtle graphics is an interesting and easy way to learn basic programming concepts. \n",
    "#The Python turtle graphics system simulates a “turtle” that obeys commands to draw simple graphics."
   ]
  },
  {
   "cell_type": "code",
   "execution_count": 5,
   "id": "53501940",
   "metadata": {},
   "outputs": [],
   "source": [
    "import turtle\n",
    "#turtle.showturtle()"
   ]
  },
  {
   "cell_type": "markdown",
   "id": "719e2222",
   "metadata": {},
   "source": [
    "# Exercises\n",
    "Algorithm Workbench"
   ]
  },
  {
   "cell_type": "code",
   "execution_count": 6,
   "id": "d475f6f6",
   "metadata": {},
   "outputs": [
    {
     "name": "stdout",
     "output_type": "stream",
     "text": [
      "Enter the age:12\n",
      "12\n",
      "Enter the color:red\n",
      "red\n"
     ]
    }
   ],
   "source": [
    "#Q1\n",
    "age=int(input(\"Enter the age:\"))\n",
    "print(age)\n",
    "color=input(\"Enter the color:\")\n",
    "print(color)\n"
   ]
  },
  {
   "cell_type": "code",
   "execution_count": 7,
   "id": "5cfd4705",
   "metadata": {},
   "outputs": [
    {
     "name": "stdout",
     "output_type": "stream",
     "text": [
      "8\n",
      "59\n",
      "14\n",
      "18.666666666666668\n",
      "49\n",
      "1\n",
      "\n",
      "round of 2 float value:  12345566.57 \n",
      "\n",
      "\n",
      "round of 2 float value:  12,345,566.57 \n",
      "\n",
      "X\tO\tX\n",
      "O\tX\tO\n",
      "X\tO\tX\n",
      "\n"
     ]
    }
   ],
   "source": [
    "a=2\n",
    "b=a\n",
    "a=b*4\n",
    "print(a)\n",
    "\n",
    "w,x,y,z=12,3,56,7\n",
    "result = x + y\n",
    "print(result)\n",
    "result = z * 2\n",
    "print(result)\n",
    "result = y / x\n",
    "print(result)\n",
    "result = y-z\n",
    "print(result)\n",
    "result = w //z\n",
    "print(result)\n",
    "\n",
    "float1=12345566.5667900\n",
    "print(\"\\nround of 2 float value: \",format(float1,\".2f\"),\"\\n\")\n",
    "print(\"\\nround of 2 float value: \",format(float1,\",.2f\"),\"\\n\")\n",
    "print('X\\tO\\tX\\nO\\tX\\tO\\nX\\tO\\tX\\n')"
   ]
  },
  {
   "cell_type": "markdown",
   "id": "096a14b9",
   "metadata": {},
   "source": [
    "# Programming exercises"
   ]
  },
  {
   "cell_type": "code",
   "execution_count": 8,
   "id": "ff43b9c9",
   "metadata": {},
   "outputs": [
    {
     "name": "stdout",
     "output_type": "stream",
     "text": [
      "Enter the amount of total sale:23\n",
      "this year profit is: \n",
      " 5.29\n",
      "Enter value in pound: 34\n",
      "total kilogram is :  15.436\n"
     ]
    }
   ],
   "source": [
    "# 1.Sales Prediction\n",
    "# A company has determined that its annual profit is typically 23 percent of total sales. Write \n",
    "# a program that asks the user to enter the projected amount of total sales, then displays the \n",
    "# profit that will be made from that amount.\n",
    "# Hint: Use the value 0.23 to represent 23 percent\n",
    "profit=23\n",
    "amount_total_sales=int(input(\"Enter the amount of total sale:\"))\n",
    "prd_profit=amount_total_sales*.23\n",
    "print(\"this year profit is: \\n\",prd_profit)\n",
    "\n",
    "# 2. Pounds to Kilograms\n",
    "# One pound is equivalent to 0.454 kilograms. Write a program that asks the user to enter \n",
    "# the mass of an object in pounds and then calculates and displays the mass of the object in \n",
    "# kilograms.\n",
    "\n",
    "kg=0.454\n",
    "pound=int(input(\"Enter value in pound: \"))\n",
    "new_val_kg=pound*kg\n",
    "print(\"total kilogram is : \",new_val_kg)"
   ]
  },
  {
   "cell_type": "code",
   "execution_count": 9,
   "id": "125ff796",
   "metadata": {},
   "outputs": [
    {
     "name": "stdout",
     "output_type": "stream",
     "text": [
      "enter the price of item1:34\n",
      "enter the price of item2:56\n",
      "enter the price of item3:77\n",
      "enter the price of item4:32\n",
      "price of item1: 34\n",
      "price of item2: 56\n",
      "price of item3: 77\n",
      "price of item4: 32\n",
      "sales without sales tax: 199\n",
      "sales tax is:  13.93\n",
      "total price:  212.93\n"
     ]
    }
   ],
   "source": [
    "# 4. Total Purchase\n",
    "# A customer in a store is purchasing five items. Write a program that asks for the price of \n",
    "# each item, then displays the subtotal of the sale, the amount of sales tax, and the total. \n",
    "# Assume the sales tax is 7 percent.\n",
    "item1=int(input(\"enter the price of item1:\"))\n",
    "item2=int(input(\"enter the price of item2:\"))\n",
    "item3=int(input(\"enter the price of item3:\"))\n",
    "item4=int(input(\"enter the price of item4:\"))\n",
    "print(\"price of item1:\",item1)\n",
    "print(\"price of item2:\",item2)\n",
    "print(\"price of item3:\",item3)\n",
    "print(\"price of item4:\",item4)\n",
    "sales=item1+item2+item3+item4\n",
    "print(\"sales without sales tax:\",sales)\n",
    "sales_tax=sales*0.07\n",
    "print(\"sales tax is: \",format(sales_tax,\".2f\"))\n",
    "\n",
    "total_cost=sales+sales_tax\n",
    "print(\"total price: \",total_cost)\n",
    "\n"
   ]
  },
  {
   "cell_type": "code",
   "execution_count": 10,
   "id": "6284ed24",
   "metadata": {},
   "outputs": [
    {
     "name": "stdout",
     "output_type": "stream",
     "text": [
      "420\n",
      "700\n",
      "1050\n"
     ]
    }
   ],
   "source": [
    "# 5. Distance Traveled\n",
    "# Assuming there are no accidents or delays, the distance that a car travels down the interstate\n",
    "# can be calculated with the following formula:\n",
    "# Distance = Speed * Time\n",
    "# A car is traveling at 70 miles per hour. Write a program that displays the following:\n",
    "# • The distance the car will travel in 6 hours\n",
    "# • The distance the car will travel in 10 hours\n",
    "# • The distance the car will travel in 15 hours\n",
    "speed=70\n",
    "time=6\n",
    "distance=speed*time\n",
    "print(distance)\n",
    "\n",
    "time=10\n",
    "distance=speed*time\n",
    "print(distance)\n",
    "\n",
    "time=15\n",
    "distance=speed*time\n",
    "print(distance)"
   ]
  },
  {
   "cell_type": "code",
   "execution_count": 1,
   "id": "407ff055",
   "metadata": {},
   "outputs": [
    {
     "name": "stdout",
     "output_type": "stream",
     "text": [
      "enter miles driven: 27335387\n",
      "enter the gallon of gas:6565\n",
      "total mpg 179456815655\n"
     ]
    }
   ],
   "source": [
    "# 7. Miles-per-Gallon\n",
    "# A car's miles-per-gallon (MPG) can be calculated with the following formula:\n",
    "# MPG = Miles driven * Gallons of gas used\n",
    "# Write a program that asks the user for the number of miles driven and the gallons of gas \n",
    "# used. It should calculate the car's MPG and display the result.\n",
    "miles_driven=int(input(\"enter miles driven: \"))\n",
    "gallon_of_gas=int(input(\"enter the gallon of gas:\"))\n",
    "mpg=miles_driven*gallon_of_gas\n",
    "print(\"total mpg\",mpg)"
   ]
  },
  {
   "cell_type": "code",
   "execution_count": 12,
   "id": "5c03df1f",
   "metadata": {},
   "outputs": [
    {
     "name": "stdout",
     "output_type": "stream",
     "text": [
      "enter radius of circle56\n",
      "circle is:   175.92918860102841\n",
      "circle is:   175.927864\n"
     ]
    }
   ],
   "source": [
    "# 9. Circle Measurements\n",
    "# Write a program that asks the user to enter the radius of a circle. The program should calculate\n",
    "# and display the area and circumference of the circle using πr^2\n",
    "#  for the area and 2πr for the circumference.\n",
    "# Hint: You can either use 3.14159 as the value of pi (π), or add the statement \"import math\"\n",
    "# to the start of the program and then use \"math.pi\" wherever you need the value of pi in \n",
    "# the program.\n",
    "import math as m\n",
    "rad=int(input(\"enter radius of circle\"))\n",
    "circle=m.pi*rad\n",
    "print(\"circle is:  \",circle)\n",
    "\n",
    "circle=3.141569*rad\n",
    "print(\"circle is:  \",circle)\n",
    "\n"
   ]
  },
  {
   "cell_type": "code",
   "execution_count": null,
   "id": "b0a53377",
   "metadata": {},
   "outputs": [],
   "source": [
    "print(\"getting item price: \")\n",
    "original_price=int(input(\"enter the price item one: \"))\n",
    "discount=original_price*20/100\n",
    "print(\"discount is: \",discount)\n",
    "totalPrice=original_price-discount\n",
    "print(\"you selling price is:\",totalPrice)"
   ]
  },
  {
   "cell_type": "markdown",
   "id": "bff3e6cd",
   "metadata": {},
   "source": [
    "# Named constrain\n",
    "A named constant is a name that represents a value that cannot be \n",
    "changed during the program's execution.\n",
    "\n",
    "A magic number is an unexplained value that \n",
    "appears in a program’s code"
   ]
  },
  {
   "cell_type": "code",
   "execution_count": null,
   "id": "fbd20959",
   "metadata": {},
   "outputs": [],
   "source": [
    "balance=123\n",
    "amount = balance * 0.069\n",
    "print(amount)\n",
    "\n",
    "#This creates a named constant named INTEREST_RATE that is assigned the value 0.069.\n",
    "INTEREST_RATE = 0.069\n",
    "#One advantage of using named constants is that they make programs more self-explanatory.\n",
    "amount = balance * INTEREST_RATE\n",
    "print(amount)\n",
    "#Another advantage to using named constants is that widespread changes can easily be made to the program.\n",
    "INTEREST_RATE=0.073\n",
    "amount = balance * INTEREST_RATE\n",
    "amount = balance * INTEREST_RATE\n",
    "print(amount)\n",
    "#Another advantage to using named constants is that they help to prevent the typographical \n",
    "  # errors that are common when using magic numbers.\n",
    "ampount=balance*0.0063\n",
    "amount=balance*0.063\n",
    "#but when you use name constrain it not be happen\n",
    "amount = balance * INTEREST_RATE "
   ]
  },
  {
   "cell_type": "code",
   "execution_count": null,
   "id": "ee40485b",
   "metadata": {},
   "outputs": [],
   "source": [
    "num1=int(input(\"enter the price item one: \"))\n",
    "num2=int(input(\"enter the price item one: \"))\n",
    "num3=int(input(\"enter the price item one: \"))\n",
    "num4=int(input(\"enter the price item one: \"))\n",
    "avg=(num1+num2+num3+num4)/4\n",
    "print(\"average of all item is: \",avg)"
   ]
  },
  {
   "cell_type": "code",
   "execution_count": null,
   "id": "3de4aa07",
   "metadata": {},
   "outputs": [],
   "source": [
    "# Get the desired future value.\n",
    "future_value = float(input('Enter the desired future value: '))\n",
    "\n",
    "# Get the annual interest rate.\n",
    "rate = float(input('Enter the annual interest rate: '))\n",
    "\n",
    "# Get the number of years that the money will appreciate.\n",
    "years = int(input('Enter the number of years the money will grow: '))\n",
    "\n",
    "# Calculate the amount needed to deposit.\n",
    "present_value = future_value / (1.0 + rate)**years\n",
    "\n",
    "# Display the amount needed to deposit.\n",
    "print('You will need to deposit this amount:', present_value)"
   ]
  },
  {
   "cell_type": "code",
   "execution_count": null,
   "id": "a404419a",
   "metadata": {},
   "outputs": [],
   "source": []
  },
  {
   "cell_type": "code",
   "execution_count": null,
   "id": "112e5ed0",
   "metadata": {},
   "outputs": [],
   "source": []
  },
  {
   "cell_type": "code",
   "execution_count": null,
   "id": "23010b62",
   "metadata": {},
   "outputs": [],
   "source": []
  }
 ],
 "metadata": {
  "kernelspec": {
   "display_name": "Python 3 (ipykernel)",
   "language": "python",
   "name": "python3"
  },
  "language_info": {
   "codemirror_mode": {
    "name": "ipython",
    "version": 3
   },
   "file_extension": ".py",
   "mimetype": "text/x-python",
   "name": "python",
   "nbconvert_exporter": "python",
   "pygments_lexer": "ipython3",
   "version": "3.9.13"
  }
 },
 "nbformat": 4,
 "nbformat_minor": 5
}
