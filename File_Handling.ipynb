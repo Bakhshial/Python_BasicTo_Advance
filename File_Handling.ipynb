{
 "cells": [
  {
   "cell_type": "code",
   "execution_count": 1,
   "id": "978eee9b",
   "metadata": {},
   "outputs": [],
   "source": [
    "x=open(\"My_file.txt\")"
   ]
  },
  {
   "cell_type": "code",
   "execution_count": 2,
   "id": "bb125e12",
   "metadata": {},
   "outputs": [],
   "source": [
    "x=open(\"My_file.txt\",\"rt\") #\"r\" for read, and \"t\" for text are the default values, you do not need to specify them."
   ]
  },
  {
   "cell_type": "code",
   "execution_count": 3,
   "id": "c0175b93",
   "metadata": {},
   "outputs": [
    {
     "name": "stdout",
     "output_type": "stream",
     "text": [
      "Hi Dear I wanna to say that you look beautiful girl in world\n"
     ]
    }
   ],
   "source": [
    "print(x.read())"
   ]
  },
  {
   "cell_type": "code",
   "execution_count": 4,
   "id": "7367f246",
   "metadata": {},
   "outputs": [
    {
     "name": "stdout",
     "output_type": "stream",
     "text": [
      "Hi every one \n",
      "Hello! Welcome to demofile.txt\n",
      "This file is for testing purposes.\n",
      "Good Luck!\n"
     ]
    }
   ],
   "source": [
    "f=open(r\"C:\\Users\\Invisible Boy\\Desktop\\file.txt\",\"r\")\n",
    "print(f.read())"
   ]
  },
  {
   "cell_type": "code",
   "execution_count": 5,
   "id": "efa2b7cc",
   "metadata": {},
   "outputs": [
    {
     "name": "stdout",
     "output_type": "stream",
     "text": [
      "Hi every one \n",
      "\n",
      "Hello! Welcome to demofile.txt\n",
      "\n"
     ]
    }
   ],
   "source": [
    "f=open(r\"C:\\Users\\Invisible Boy\\Desktop\\file.txt\",\"r\")\n",
    "print(f.readline())\n",
    "print(f.readline())\n",
    "f.close()"
   ]
  },
  {
   "cell_type": "code",
   "execution_count": 6,
   "id": "c1cceef6",
   "metadata": {},
   "outputs": [
    {
     "name": "stdout",
     "output_type": "stream",
     "text": [
      "Hi every one \n",
      "\n",
      "Hello! Welcome to demofile.txt\n",
      "\n",
      "This file is for testing purposes.\n",
      "\n",
      "Good Luck!\n"
     ]
    }
   ],
   "source": [
    "f=open(r\"C:\\Users\\Invisible Boy\\Desktop\\file.txt\",\"r\")\n",
    "for x in f:\n",
    "    print(x)"
   ]
  },
  {
   "cell_type": "markdown",
   "id": "3044bc10",
   "metadata": {},
   "source": [
    "# Write and create file\n",
    "\n",
    "Write to an Existing File\n",
    "\n",
    "To write to an existing file, you must add a parameter to the open() function:\n",
    "\n",
    "\"a\" - Append - will append to the end of the file\n",
    "\n",
    "\"w\" - Write - will overwrite any existing content"
   ]
  },
  {
   "cell_type": "code",
   "execution_count": 10,
   "id": "9da2d637",
   "metadata": {},
   "outputs": [
    {
     "name": "stdout",
     "output_type": "stream",
     "text": [
      "I am from Pakistan, My name is Bakhshial!  \n"
     ]
    }
   ],
   "source": [
    "d=open(\"file.txt\",\"a\")\n",
    "d.write(\", My name is Bakhshial!  \")\n",
    "d.close()\n",
    "\n",
    "f=open(\"file.txt\",\"r\")\n",
    "print(f.read())"
   ]
  },
  {
   "cell_type": "code",
   "execution_count": 11,
   "id": "22f75962",
   "metadata": {},
   "outputs": [
    {
     "name": "stdout",
     "output_type": "stream",
     "text": [
      "I am from Pakistan\n"
     ]
    }
   ],
   "source": [
    "d=open(\"file.txt\",\"w\")\n",
    "d.write(\"I am from Pakistan\")\n",
    "d.close()\n",
    "\n",
    "f=open(\"file.txt\",\"r\")\n",
    "print(f.read())"
   ]
  },
  {
   "cell_type": "markdown",
   "id": "5fc08f9e",
   "metadata": {},
   "source": [
    "# Create a New File\n",
    "\n",
    "To create a new file in Python, use the open() method, with one of the following parameters:\n",
    "\n",
    "\"x\" - Create - will create a file, returns an error if the file exist\n",
    "\n",
    "\"a\" - Append - will create a file if the specified file does not exist\n",
    "\n",
    "\"w\" - Write - will create a file if the specified file does not exist"
   ]
  },
  {
   "cell_type": "code",
   "execution_count": 12,
   "id": "b0991c5d",
   "metadata": {},
   "outputs": [
    {
     "ename": "FileExistsError",
     "evalue": "[Errno 17] File exists: 'My_file.txt'",
     "output_type": "error",
     "traceback": [
      "\u001b[1;31m---------------------------------------------------------------------------\u001b[0m",
      "\u001b[1;31mFileExistsError\u001b[0m                           Traceback (most recent call last)",
      "\u001b[1;32m~\\AppData\\Local\\Temp\\ipykernel_1448\\317258987.py\u001b[0m in \u001b[0;36m<module>\u001b[1;34m\u001b[0m\n\u001b[1;32m----> 1\u001b[1;33m \u001b[0mnew\u001b[0m\u001b[1;33m=\u001b[0m\u001b[0mopen\u001b[0m\u001b[1;33m(\u001b[0m\u001b[1;34m\"My_file.txt\"\u001b[0m\u001b[1;33m,\u001b[0m\u001b[1;34m\"x\"\u001b[0m\u001b[1;33m)\u001b[0m\u001b[1;33m\u001b[0m\u001b[1;33m\u001b[0m\u001b[0m\n\u001b[0m",
      "\u001b[1;31mFileExistsError\u001b[0m: [Errno 17] File exists: 'My_file.txt'"
     ]
    }
   ],
   "source": [
    "new=open(\"My_file.txt\",\"x\")"
   ]
  },
  {
   "cell_type": "code",
   "execution_count": 13,
   "id": "ea874c2c",
   "metadata": {},
   "outputs": [
    {
     "name": "stdout",
     "output_type": "stream",
     "text": [
      "Hi Dear I wanna to say that you look beautiful girl in world\n"
     ]
    }
   ],
   "source": [
    "f=open(\"My_file.txt\",\"w\")\n",
    "f.write(\"Hi Dear I wanna to say that you look beautiful girl in world\")\n",
    "f.close()\n",
    "\n",
    "r=open(\"My_file.txt\",\"r\")\n",
    "print(r.read())"
   ]
  },
  {
   "cell_type": "code",
   "execution_count": null,
   "id": "4d8de12f",
   "metadata": {},
   "outputs": [],
   "source": [
    "f=open(\"Your_file.txt\",\"w\")\n",
    "f.write(\"Hi Dear I wanna to say that you look beautiful girl in world,I love you I can not live wothout myself\")\n",
    "f.close()\n",
    "\n",
    "r=open(\"Your_file.txt\",\"r\")\n",
    "print(r.read())"
   ]
  },
  {
   "cell_type": "markdown",
   "id": "b969f34b",
   "metadata": {},
   "source": [
    "# Remove the file "
   ]
  },
  {
   "cell_type": "code",
   "execution_count": null,
   "id": "677031da",
   "metadata": {},
   "outputs": [],
   "source": [
    "import os\n",
    "os.remove(\"file.txt\")\n"
   ]
  },
  {
   "cell_type": "code",
   "execution_count": null,
   "id": "35de1f2a",
   "metadata": {},
   "outputs": [],
   "source": [
    "import os\n",
    "if os.path.exists(\"file.txt\"):\n",
    "  os.remove(\"demofile.txt\")\n",
    "else:\n",
    "  print(\"The file does not exist\") "
   ]
  },
  {
   "cell_type": "code",
   "execution_count": null,
   "id": "b4bc9375",
   "metadata": {},
   "outputs": [],
   "source": []
  }
 ],
 "metadata": {
  "kernelspec": {
   "display_name": "Python 3 (ipykernel)",
   "language": "python",
   "name": "python3"
  },
  "language_info": {
   "codemirror_mode": {
    "name": "ipython",
    "version": 3
   },
   "file_extension": ".py",
   "mimetype": "text/x-python",
   "name": "python",
   "nbconvert_exporter": "python",
   "pygments_lexer": "ipython3",
   "version": "3.9.13"
  }
 },
 "nbformat": 4,
 "nbformat_minor": 5
}
